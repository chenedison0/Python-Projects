{
  "nbformat": 4,
  "nbformat_minor": 0,
  "metadata": {
    "kernelspec": {
      "display_name": "teaching37",
      "language": "python",
      "name": "teaching37"
    },
    "language_info": {
      "codemirror_mode": {
        "name": "ipython",
        "version": 3
      },
      "file_extension": ".py",
      "mimetype": "text/x-python",
      "name": "python",
      "nbconvert_exporter": "python",
      "pygments_lexer": "ipython3",
      "version": "3.7.3"
    },
    "test_info": {
      "id": "1ec64c033eae55d522ae8953ded69f7c3d2461c7"
    },
    "colab": {
      "name": "1.ipynb",
      "provenance": [],
      "include_colab_link": true
    }
  },
  "cells": [
    {
      "cell_type": "markdown",
      "metadata": {
        "id": "view-in-github",
        "colab_type": "text"
      },
      "source": [
        "<a href=\"https://colab.research.google.com/github/chenedison0/Python-Projects/blob/main/1.ipynb\" target=\"_parent\"><img src=\"https://colab.research.google.com/assets/colab-badge.svg\" alt=\"Open In Colab\"/></a>"
      ]
    },
    {
      "cell_type": "markdown",
      "metadata": {
        "id": "HiBsuPLh34eM"
      },
      "source": [
        "Before you turn this problem in, make sure everything runs as expected. First, **restart the kernel** (in the menubar, select Kernel$\\rightarrow$Restart) and then **run all cells** (in the menubar, select Cell$\\rightarrow$Run All).\n",
        "\n",
        "Make sure you fill in any place that says `YOUR CODE HERE` or \"YOUR ANSWER HERE\", as well as your name and collaborators below:"
      ]
    },
    {
      "cell_type": "code",
      "metadata": {
        "id": "-UGQGc6b34eP"
      },
      "source": [
        "NAME = \"Edison Chen\"\n",
        "COLLABORATORS = \"\""
      ],
      "execution_count": null,
      "outputs": []
    },
    {
      "cell_type": "markdown",
      "metadata": {
        "id": "UAHa9OHD34eg"
      },
      "source": [
        "---"
      ]
    },
    {
      "cell_type": "markdown",
      "metadata": {
        "deletable": false,
        "editable": false,
        "nbgrader": {
          "checksum": "b42b628f01610674d412155808e6b0a7",
          "grade": false,
          "grade_id": "cell-2be5226c1f58f9d0",
          "locked": true,
          "schema_version": 1,
          "solution": false
        },
        "id": "nodICCjD34ek"
      },
      "source": [
        "# Homework 1: Python Basics\n",
        "## CSE 20 Fall 2020\n",
        "\n",
        "## Luca de Alfaro\n",
        "Copyright Luca de Alfaro, 2020.  CC-BY-NC License."
      ]
    },
    {
      "cell_type": "markdown",
      "metadata": {
        "deletable": false,
        "editable": false,
        "nbgrader": {
          "checksum": "97aee9954dbe6eb2214e5a74dd73f7e7",
          "grade": false,
          "grade_id": "cell-aeb2ccbddd103ad4",
          "locked": true,
          "schema_version": 1,
          "solution": false
        },
        "id": "-IYmnDWB34em"
      },
      "source": [
        "# Instructions\n",
        "\n",
        "## The Format of a Python Notebook\n",
        "\n",
        "*This* is a Python Notebook homework.  It consists of various types of cells: \n",
        "\n",
        "* Text: you can read them :-) \n",
        "* Code: you should run them, as they may set up the problems that you are asked to solve.\n",
        "* **Solution:** These are cells where you should enter a solution.  You will see a marker in these cells that indicates where your work should be inserted.  \n",
        "\n",
        "```\n",
        "    # YOUR CODE HERE\n",
        "```    \n",
        "\n",
        "* Test: These cells contains some tests, and are worth some points.  You should run the cells as a way to debug your code, and to see if you understood the question, and whether the output of your code is produced in the correct format.  The notebook contains both the tests you see, and some secret ones that you cannot see.  This prevents you from using the simple trick of hard-coding the desired output. "
      ]
    },
    {
      "cell_type": "markdown",
      "metadata": {
        "deletable": false,
        "editable": false,
        "nbgrader": {
          "checksum": "949d7ad627a0d2ac15d99df7205fe858",
          "grade": false,
          "grade_id": "cell-db2d02adb61a2336",
          "locked": true,
          "schema_version": 1,
          "solution": false
        },
        "id": "ymliX75934eo"
      },
      "source": [
        "## Working on Your Notebook in Colab\n",
        "\n",
        "Please work on your notebook directly on Colab.  Please don't download it and work directly on your laptop.  Working on Colab has two key features: \n",
        "\n",
        "* The notebook is shared with the TAs, tutors, and with the instructor.  So when you report that you have difficulties, they can open your notebook and help you. \n",
        "* The notebook preserves the revision history, which is useful for many reasons, among which that none of your work can be lost, and we can see how you reached the solution.\n",
        "\n",
        "### Using Colab for the first time (in this class)\n",
        "\n",
        "**Set indent to 4 spaces.**\n",
        "If this is the first time you use Colab, click on the gear icon on the top right, then on Editor.  There, set the indentation width to 4 spaces: this will keep your code correctly indented, which is very important.  You can configure the other options at your pleasure. \n",
        "\n",
        "### Running your notebook\n",
        "\n",
        "**Running a cell.**\n",
        "To run a cell of the notebook, either click on the icon to its top left, or press shift-ENTER (or shift-Return). \n",
        "\n",
        "**Disconnections.**\n",
        "When you open a notebook, Google automatically connects a server to the web page, so that you can type code in your browser, and the code is run on that server.  If you are idle for more than a few minutes, Google keeps all you typed (none of your work is lost), but the server may be disconnected due to inactivity.  When the server is disconnected, it loses all memory of anything you have defined (functions, classes, variables, etc). \n",
        "\n",
        "If you do get disconnected, select Runtime > Run All (or Runtime > Run before) to ensure everything is defined as it should. \n",
        "\n",
        "### DO NOT\n",
        "\n",
        "* **Do not add, delete, reorder, remove cells.**  This breaks the relationship between your work, and the grading system, making it impossible to grade your work.\n",
        "\n",
        "### Debugging\n",
        "To debug, you can add print statements to your code.  They should have no effect on the tests.  Just be careful that if you add too many of them inside loops and similar, you may cause for some of the tests we will do such an enormous amount of output that grading might timeout (and you may not get credit for an answer). \n",
        "\n",
        "### Asking for help\n",
        "The tutors and TAs should have access to the notebook; otherwise, you can always share a link with them.  In this way, they can take a look at your work and help you with debugging and with any questions you might have."
      ]
    },
    {
      "cell_type": "markdown",
      "metadata": {
        "deletable": false,
        "editable": false,
        "nbgrader": {
          "checksum": "54b70bb61cf55ce9f80656f001f478a2",
          "grade": false,
          "grade_id": "cell-0b20458c52da69e4",
          "locked": true,
          "schema_version": 1,
          "solution": false
        },
        "id": "Xk09F-id34ep"
      },
      "source": [
        "## Submitting Your Notebook\n",
        "\n",
        "To submit:\n",
        "* **Check your work.** Before submitting, select Runtime > Run All, and check that you don't get any unexpected error. \n",
        "* **Download the notebook.** Click on File > Download .ipynb . **Do not download the .py file.**\n",
        "* **Upload.** Upload the .ipynb file to [this Google form](https://forms.gle/V55pDXK7CheXycgdA). \n",
        "* **Deadline:** Friday October 9, **11pm (NOT midnight)**.\n"
      ]
    },
    {
      "cell_type": "markdown",
      "metadata": {
        "deletable": false,
        "editable": false,
        "nbgrader": {
          "checksum": "efe3a836b97e7b1ab437b26cbc65fdfb",
          "grade": false,
          "grade_id": "cell-5427fd59a2ad7578",
          "locked": true,
          "schema_version": 1,
          "solution": false
        },
        "id": "Vpak4pKP34eq"
      },
      "source": [
        "## What Happens Next? \n",
        "In 2-3 days, the instructor will autograde all submitted homework.  You will find, in a Google Drive folder shared with you, a version of your notebook annotated with your total grade for the assignment, and the details of the grading for each question. "
      ]
    },
    {
      "cell_type": "markdown",
      "metadata": {
        "deletable": false,
        "editable": false,
        "nbgrader": {
          "checksum": "f2d78137900cc5a77b56fa8c64e82790",
          "grade": false,
          "grade_id": "cell-18b78ebb5a65b5d3",
          "locked": true,
          "schema_version": 1,
          "solution": false
        },
        "id": "rzaNU0IJ34eq"
      },
      "source": [
        "## The Test\n",
        "\n",
        "Here the real homework begins!"
      ]
    },
    {
      "cell_type": "code",
      "metadata": {
        "deletable": false,
        "editable": false,
        "nbgrader": {
          "checksum": "840dfbbba59f2c417acb4062a7de73b5",
          "grade": false,
          "grade_id": "cell-aa6578b7fdc732a1",
          "locked": true,
          "schema_version": 1,
          "solution": false
        },
        "id": "7zNPb9GG34es"
      },
      "source": [
        "# Let me define the function I use for testing.  Don't change this cell. \n",
        "\n",
        "def check_equal(x, y, msg=None):\n",
        "    if x == y:\n",
        "        if msg is None:\n",
        "            print(\"Success\")\n",
        "        else:\n",
        "            print(msg, \": Success\")\n",
        "    else:\n",
        "        if msg is None:\n",
        "            print(\"Error:\")\n",
        "        else:\n",
        "            print(\"Error in\", msg, \":\")\n",
        "        print(\"    Your answer was:\", x)\n",
        "        print(\"    Correct answer: \", y)\n",
        "    assert x == y, \"%r and %r are different\" % (x, y)"
      ],
      "execution_count": null,
      "outputs": []
    },
    {
      "cell_type": "markdown",
      "metadata": {
        "deletable": false,
        "editable": false,
        "nbgrader": {
          "checksum": "9d4f2c1bc4d3329d230867cfab9b12c2",
          "grade": false,
          "grade_id": "cell-ce9257cdaf6fbe78",
          "locked": true,
          "schema_version": 1,
          "solution": false
        },
        "id": "TopEN_j534ez"
      },
      "source": [
        "## Problem 1: common word pairs\n",
        "\n",
        "The goal is to find the set of consecutive word pairs in common between two sentences. \n",
        "We will get there in steps, guiding you to the solution. "
      ]
    },
    {
      "cell_type": "code",
      "metadata": {
        "deletable": false,
        "editable": false,
        "nbgrader": {
          "checksum": "26d241a80761597fb61492df74c4cea1",
          "grade": false,
          "grade_id": "cell-406db0f574a89232",
          "locked": true,
          "schema_version": 1,
          "solution": false
        },
        "id": "WxAdCmq_34ez",
        "colab": {
          "base_uri": "https://localhost:8080/",
          "height": 35
        },
        "outputId": "85728d8b-dbc8-4c2e-e042-c4b28ebb9662"
      },
      "source": [
        "# First, notice that .split() splits a sentence according to white space, returning a list.\n",
        "\n",
        "print(\"I love eating bananas\".split())"
      ],
      "execution_count": null,
      "outputs": [
        {
          "output_type": "stream",
          "text": [
            "['I', 'love', 'eating', 'bananas']\n"
          ],
          "name": "stdout"
        }
      ]
    },
    {
      "cell_type": "code",
      "metadata": {
        "deletable": false,
        "editable": false,
        "nbgrader": {
          "checksum": "24e7791d4a575e98e2a28fb4608d4feb",
          "grade": false,
          "grade_id": "cell-c65e0fce85afde8c",
          "locked": true,
          "schema_version": 1,
          "solution": false
        },
        "id": "431BC-v834e6",
        "colab": {
          "base_uri": "https://localhost:8080/",
          "height": 35
        },
        "outputId": "085aa516-0b93-43ba-dcbf-ce22ba8b338b"
      },
      "source": [
        "# Second, recall that in Python, a[i:k] gives you the sub-list of a consisting \n",
        "# of a[i], a[i+1], ..., a[k-1].\n",
        "a = \"I love eating bananas\".split()\n",
        "print(a[2:4])"
      ],
      "execution_count": null,
      "outputs": [
        {
          "output_type": "stream",
          "text": [
            "['eating', 'bananas']\n"
          ],
          "name": "stdout"
        }
      ]
    },
    {
      "cell_type": "markdown",
      "metadata": {
        "deletable": false,
        "editable": false,
        "nbgrader": {
          "checksum": "c320ea29f3893b672484bed7af43aae3",
          "grade": false,
          "grade_id": "cell-a241c17207271026",
          "locked": true,
          "schema_version": 1,
          "solution": false
        },
        "id": "X1wB29Ox34fA"
      },
      "source": [
        "### Problem 1 part 1: generating the list of consecutive words in a sentence.\n",
        "\n",
        "You are given a sentence, with words separated by white space.  You need to write a function `word_pairs` that outputs the list of consecutive words.  For example, if the input is: \n",
        "\n",
        "    \"I love eating bananas\"\n",
        "    \n",
        "Then the function `word_pairs` should output:\n",
        "\n",
        "    [(\"I\", \"love\"), (\"love\", \"eating\"), (\"eating\", \"bananas\")]\n",
        "    \n",
        "If the input sentence consists of fewer than two words, then `word_pairs` should output the empty list. \n",
        "**Be careful:** the result should be a list of tuples, not a list of lists."
      ]
    },
    {
      "cell_type": "code",
      "metadata": {
        "deletable": false,
        "nbgrader": {
          "checksum": "a3e721254d67ac30a2bea9d57724d079",
          "grade": false,
          "grade_id": "cell-a75f44130c87420c",
          "locked": false,
          "schema_version": 1,
          "solution": true
        },
        "id": "ZRTeYyqz34fC"
      },
      "source": [
        "def word_pairs(sentence):\n",
        "    # YOUR CODE HERE\n",
        "    s, a = sentence.split(), []\n",
        "    for i in range(len(s) - 1):\n",
        "        a.append((s[i],s[i + 1]))\n",
        "    return a"
      ],
      "execution_count": null,
      "outputs": []
    },
    {
      "cell_type": "code",
      "metadata": {
        "deletable": false,
        "editable": false,
        "nbgrader": {
          "checksum": "12f8f4c3520208688ad6747321a7cb77",
          "grade": true,
          "grade_id": "cell-e2701ded4af645eb",
          "locked": true,
          "points": 5,
          "schema_version": 1,
          "solution": false
        },
        "id": "Lpk-THeB34fL",
        "colab": {
          "base_uri": "https://localhost:8080/",
          "height": 72
        },
        "outputId": "024e8252-d685-400e-91ce-3af68745bb75"
      },
      "source": [
        "# Base cases.  5 points.\n",
        "check_equal(word_pairs(\" \"), [])\n",
        "check_equal(word_pairs(\"woohoo\"), [])\n",
        "check_equal(word_pairs(\"I am\"), [(\"I\", \"am\")])\n"
      ],
      "execution_count": null,
      "outputs": [
        {
          "output_type": "stream",
          "text": [
            "Success\n",
            "Success\n",
            "Success\n"
          ],
          "name": "stdout"
        }
      ]
    },
    {
      "cell_type": "code",
      "metadata": {
        "deletable": false,
        "editable": false,
        "nbgrader": {
          "checksum": "6e3a28390816f4d4feee8c4a20f76d4b",
          "grade": true,
          "grade_id": "cell-e31912e43e3d4eaa",
          "locked": true,
          "points": 5,
          "schema_version": 1,
          "solution": false
        },
        "id": "0wlEyFKd34fR",
        "colab": {
          "base_uri": "https://localhost:8080/",
          "height": 54
        },
        "outputId": "e12563d8-6d0b-43b1-bbd8-2f8be1f70215"
      },
      "source": [
        "# Longer sentences.  5 points. \n",
        "\n",
        "check_equal(word_pairs(\"I love bananas\"), [(\"I\", \"love\"), (\"love\", \"bananas\")])\n",
        "check_equal(word_pairs(\"a b c d e\"), [(\"a\", \"b\"), (\"b\", \"c\"), (\"c\", \"d\"), (\"d\", \"e\")])"
      ],
      "execution_count": null,
      "outputs": [
        {
          "output_type": "stream",
          "text": [
            "Success\n",
            "Success\n"
          ],
          "name": "stdout"
        }
      ]
    },
    {
      "cell_type": "markdown",
      "metadata": {
        "deletable": false,
        "editable": false,
        "nbgrader": {
          "checksum": "b54275210fe28a31d0dba2dbae37c509",
          "grade": false,
          "grade_id": "cell-41b65b2587d379a1",
          "locked": true,
          "schema_version": 1,
          "solution": false
        },
        "id": "MsTfzltq34fX"
      },
      "source": [
        "Good.  Now, the idea is to use the `word_pair` function to compute the _set_ of consecutive word pairs common to two sentences.  The idea is to compute the word pairs of each list, turn the list into a set, and take the instersection."
      ]
    },
    {
      "cell_type": "code",
      "metadata": {
        "deletable": false,
        "nbgrader": {
          "checksum": "5a18ef39ece4c8600ca09c144ea70305",
          "grade": false,
          "grade_id": "cell-5e54babab03eabbb",
          "locked": false,
          "schema_version": 1,
          "solution": true
        },
        "id": "PVhjRZg934fY"
      },
      "source": [
        "def common_word_pairs(sentence1, sentence2):\n",
        "    \"\"\"Returns the set of common consecutive word pairs in two sentences.\"\"\"\n",
        "    # YOUR CODE HERE\n",
        "    return (set(word_pairs(sentence1)) & set(word_pairs(sentence2)))\n"
      ],
      "execution_count": null,
      "outputs": []
    },
    {
      "cell_type": "code",
      "metadata": {
        "deletable": false,
        "editable": false,
        "nbgrader": {
          "checksum": "bde421fee7c7f93e43f1833eddefccf6",
          "grade": true,
          "grade_id": "cell-4841b43738f3cc2b",
          "locked": true,
          "points": 5,
          "schema_version": 1,
          "solution": false
        },
        "id": "jVz_hg_134fc",
        "colab": {
          "base_uri": "https://localhost:8080/",
          "height": 90
        },
        "outputId": "6e787954-6e36-44fe-d745-81284a65a022"
      },
      "source": [
        "s1 = \"I love bananas\"\n",
        "s2 = \"I love to eat bananas\"\n",
        "s3 = \"Nobody truly dislikes to eat bananas\"\n",
        "s4 = \"I love to eat anything but bananas\"\n",
        "s5 = \"I like mangos more than bananas\"\n",
        "\n",
        "check_equal(common_word_pairs(s1, s2), {(\"I\", \"love\")})\n",
        "check_equal(common_word_pairs(s2, s3), {(\"to\", \"eat\"), (\"eat\", \"bananas\")})\n",
        "check_equal(common_word_pairs(s3, s4), {(\"to\", \"eat\")})\n",
        "check_equal(common_word_pairs(s1, s5), set())\n"
      ],
      "execution_count": null,
      "outputs": [
        {
          "output_type": "stream",
          "text": [
            "Success\n",
            "Success\n",
            "Success\n",
            "Success\n"
          ],
          "name": "stdout"
        }
      ]
    },
    {
      "cell_type": "markdown",
      "metadata": {
        "deletable": false,
        "editable": false,
        "nbgrader": {
          "checksum": "8d6736259e20a41e3e7bd61121aa7a1f",
          "grade": false,
          "grade_id": "cell-88cbd7f55c690255",
          "locked": true,
          "schema_version": 1,
          "solution": false
        },
        "id": "6xMx8rX734fh"
      },
      "source": [
        "## Problem 2: Composing dictionaries\n",
        "\n",
        "A dictionary $f$ with a set of keys $K$ can be thought of a mapping from keys to values, that is, as a one-to-many partial function $f: K \\mapsto V$ from $K$ to a set $V$ of values.  The [_domain_](https://en.wikipedia.org/wiki/Domain_of_a_function) ${\\rm Dom}(f) = K$ of $f$ is the set of keys of the dictionary $f$. \n",
        "\n",
        "Given two functions $f$ and $g$, their [composition](https://en.wikipedia.org/wiki/Function_composition) $g \\circ f$ is obtained by applying first $f$, then $g$:\n",
        "\n",
        "$$\n",
        "  (g \\circ f) (x) = g(f(x)) \\; .\n",
        "$$\n",
        "\n",
        "Note that an element $x$ that is in the domain (set of keys) of $f$ is also in the domain of $g \\circ f$ only if $f(x)$ is in the domain of $g$ (otherwise, we cannot apply $g$ to $f(x)$. \n",
        "We can write this in formulas, stating that the domain ${\\rm Dom}(g \\circ f)$ consists of all $x \\in \\mathrm{Dom}(f)$ such that $f(x) \\in \\mathrm{Dom}(g)$, or: \n",
        "\n",
        "$$\n",
        "  \\mathrm{Dom}(g \\circ f) = \\{ x \\in \\mathrm{Dom}(f) \\mid f(x) \\in \\mathrm{Dom}(g) \\} \\; .\n",
        "$$\n",
        "\n",
        "Your task is, given two dictionaries $f$ and $g$, to compute the dictionary of $g \\circ f$.\n",
        "\n"
      ]
    },
    {
      "cell_type": "code",
      "metadata": {
        "deletable": false,
        "nbgrader": {
          "checksum": "a6e08d83e196b75060b2a9f48360b6dd",
          "grade": false,
          "grade_id": "cell-608f6aa3165a3967",
          "locked": false,
          "schema_version": 1,
          "solution": true
        },
        "id": "g41ZyJ1734fh"
      },
      "source": [
        "def compose(f, g):\n",
        "    \"\"\"Given two dictionaries f and g, returns the dictionary of g \\circ f.\"\"\"\n",
        "    # This can be done in a single line shorter than this comment.\n",
        "    # You can use more lines; if you use more than half a dozen lines, you are doing it\n",
        "    # in too complicated a fashion.\n",
        "    # YOUR CODE HERE\n",
        "    a = {}\n",
        "    for i in f:\n",
        "        for j in g:\n",
        "            if f[i] == j:\n",
        "                a[i] = g[j]\n",
        "    return a\n",
        "        \n",
        "    \n"
      ],
      "execution_count": null,
      "outputs": []
    },
    {
      "cell_type": "code",
      "metadata": {
        "deletable": false,
        "editable": false,
        "nbgrader": {
          "checksum": "2acc43d365adcea7097b9ea8c236a959",
          "grade": true,
          "grade_id": "cell-688052660c47655f",
          "locked": true,
          "points": 10,
          "schema_version": 1,
          "solution": false
        },
        "id": "1mSswaC934fn",
        "colab": {
          "base_uri": "https://localhost:8080/",
          "height": 54
        },
        "outputId": "833f7884-633a-423b-e724-63c6c2285ad1"
      },
      "source": [
        "# Tests for composition. 10 points.\n",
        "\n",
        "f = {'cat': 4, 'dog': 4, 'bird': 2, \"centipede\": 100}\n",
        "g = {4: \"quadruped\", 2: \"biped\"}\n",
        "\n",
        "check_equal(compose(f, g), {\"cat\": \"quadruped\", \"dog\": \"quadruped\", \"bird\": \"biped\"})\n",
        "\n",
        "f = {0: 1, 1: 2}\n",
        "g = {10: 11, 11: 12}\n",
        "check_equal(compose(f, g), {})\n",
        "\n"
      ],
      "execution_count": null,
      "outputs": [
        {
          "output_type": "stream",
          "text": [
            "Success\n",
            "Success\n"
          ],
          "name": "stdout"
        }
      ]
    },
    {
      "cell_type": "markdown",
      "metadata": {
        "deletable": false,
        "editable": false,
        "nbgrader": {
          "checksum": "2675d122c310e818d673e4f92dd63ae0",
          "grade": false,
          "grade_id": "cell-b081c8427cb13b99",
          "locked": true,
          "schema_version": 1,
          "solution": false
        },
        "id": "lJlnxjQF34fu"
      },
      "source": [
        "## Problem 3: Classes\n",
        "\n",
        "Here is a class that represents a square in the plane.  You create a square by specifying the center, and the edge.  Then, you can ask for the coordinates of the four quarters.  It's given here just as an example."
      ]
    },
    {
      "cell_type": "code",
      "metadata": {
        "deletable": false,
        "editable": false,
        "nbgrader": {
          "checksum": "632e63356be873099cfc711ccbfaf0a9",
          "grade": false,
          "grade_id": "cell-e203bd42c02b6c6c",
          "locked": true,
          "schema_version": 1,
          "solution": false
        },
        "id": "hy8q5dCi34fu"
      },
      "source": [
        "class Square(object):\n",
        "    \n",
        "    def __init__(self, center, edge):\n",
        "        assert isinstance(center, tuple)\n",
        "        assert len(center) == 2\n",
        "        self.center = center\n",
        "        self.semiedge = edge / 2\n",
        "        \n",
        "    @property\n",
        "    def edge(self):\n",
        "        return 2 * self.semiedge\n",
        "    \n",
        "    @property\n",
        "    def ur(self):\n",
        "        \"\"\"Returns the coordinates of the upper right corner.\"\"\"\n",
        "        (x, y) = self.center\n",
        "        return x + self.semiedge, y + self.semiedge\n",
        "    \n",
        "    @property\n",
        "    def lr(self):\n",
        "        \"\"\"Returns the coordinates of the upper right corner.\"\"\"\n",
        "        (x, y) = self.center\n",
        "        return x + self.semiedge, y - self.semiedge\n",
        "\n",
        "    @property\n",
        "    def ul(self):\n",
        "        \"\"\"Returns the coordinates of the upper right corner.\"\"\"\n",
        "        (x, y) = self.center\n",
        "        return x - self.semiedge, y + self.semiedge\n",
        "\n",
        "    @property\n",
        "    def ll(self):\n",
        "        \"\"\"Returns the coordinates of the upper right corner.\"\"\"\n",
        "        (x, y) = self.center\n",
        "        return x - self.semiedge, y - self.semiedge\n",
        "    \n",
        "    def contains(self, point):\n",
        "        \"\"\"Returns whether the point is in the square.\"\"\"\n",
        "        x, y = point\n",
        "        cx, cy = self.center\n",
        "        return abs(x - cx) < self.semiedge and abs(y - cy) < self.semiedge\n",
        "    "
      ],
      "execution_count": null,
      "outputs": []
    },
    {
      "cell_type": "code",
      "metadata": {
        "deletable": false,
        "editable": false,
        "nbgrader": {
          "checksum": "2159887fc5bcdb0695384c7458dec583",
          "grade": false,
          "grade_id": "cell-e838e3f7b8fadbb4",
          "locked": true,
          "schema_version": 1,
          "solution": false
        },
        "id": "WF1LFcmM34fz",
        "colab": {
          "base_uri": "https://localhost:8080/",
          "height": 72
        },
        "outputId": "2545a61d-3c6b-4d19-8064-149443a89e6d"
      },
      "source": [
        "# Let's try it. \n",
        "\n",
        "s = Square((2, 2), 3)\n",
        "print(\"UR corner:\", s.ur)\n",
        "print(s.contains((1, 1)))\n",
        "print(s.contains((3, 4)))"
      ],
      "execution_count": null,
      "outputs": [
        {
          "output_type": "stream",
          "text": [
            "UR corner: (3.5, 3.5)\n",
            "True\n",
            "False\n"
          ],
          "name": "stdout"
        }
      ]
    },
    {
      "cell_type": "markdown",
      "metadata": {
        "deletable": false,
        "editable": false,
        "nbgrader": {
          "checksum": "f338615af33b51ab61d65095e2ae6194",
          "grade": false,
          "grade_id": "cell-b1473237242d6b48",
          "locked": true,
          "schema_version": 1,
          "solution": false
        },
        "id": "h3mHHGEu34f4"
      },
      "source": [
        "Here is a hint for you: to test the type of a variable in Python, you can use the `isinstance` function."
      ]
    },
    {
      "cell_type": "code",
      "metadata": {
        "deletable": false,
        "editable": false,
        "nbgrader": {
          "checksum": "4c23d36a62b2db254154552311703baf",
          "grade": false,
          "grade_id": "cell-bab8b43fb9cff1b1",
          "locked": true,
          "schema_version": 1,
          "solution": false
        },
        "id": "Yu6pqOn_34f5",
        "colab": {
          "base_uri": "https://localhost:8080/",
          "height": 72
        },
        "outputId": "e92f84bb-f566-454c-cf27-04707d4e64fb"
      },
      "source": [
        "print(isinstance(s, Square)) # This prints True\n",
        "print(isinstance(s, tuple)) # False\n",
        "print(isinstance((1, 2), tuple)) # True"
      ],
      "execution_count": null,
      "outputs": [
        {
          "output_type": "stream",
          "text": [
            "True\n",
            "False\n",
            "True\n"
          ],
          "name": "stdout"
        }
      ]
    },
    {
      "cell_type": "markdown",
      "metadata": {
        "deletable": false,
        "editable": false,
        "nbgrader": {
          "checksum": "9eb363e27418ab3ee5bf49cdb05a96f1",
          "grade": false,
          "grade_id": "cell-e1b9042ccb6349ac",
          "locked": true,
          "schema_version": 1,
          "solution": false
        },
        "id": "oUrl0HNv34f8"
      },
      "source": [
        "### Defining a Circle\n",
        "\n",
        "Now it's your turn.  Define a `Circle` class.  A circle is created similarly to a square, specifying center and radius, as in: \n",
        "\n",
        "    Circle((2, 3), 4)\n",
        "    \n",
        "(a circle of radius 4 with center in (2, 3)). \n",
        "\n",
        "For a circle `c`, you should implement the following methods: \n",
        "\n",
        "* `c.contains_point(p)`: returns True/False according to whether the circle contains a given point `p`, specified as a pair (x, y) of coordinates, as in `p = (2, 3)`.  \n",
        "* `c.contains_square(s)`: returns True/False according to whether the square `s` is completely contained in the circle `c`.\n",
        "* `contains(x)`: returns True/False according to whether the circle contains the argument `x`, which can be either a square a point, or another Circle. \n",
        "\n",
        "_A little geometry reminder:_  \n",
        "\n",
        "* A circle contains a square iff it contains all four corners of the square. \n",
        "* A circle $c_1$ contains a circle $c_2$ iff the distance between the centers of $c_1$ and $c_2$, plus the radius of $c_2$, is smaller than the radius of $c_1$. \n"
      ]
    },
    {
      "cell_type": "code",
      "metadata": {
        "deletable": false,
        "nbgrader": {
          "checksum": "9229e763a739fbce63483cd8dacfb516",
          "grade": false,
          "grade_id": "cell-3bfa1020afb1662c",
          "locked": false,
          "schema_version": 1,
          "solution": true
        },
        "id": "0SxrHgen34f9"
      },
      "source": [
        "import math # In case you need it.\n",
        "\n",
        "class Circle(object):\n",
        "    def __init__(self, center, radius):\n",
        "        assert isinstance(center, tuple)\n",
        "        assert len(center) == 2\n",
        "        self.center = center\n",
        "        self.radius = radius\n",
        "    def contains_point(self, p):\n",
        "        #I tried to use math.dist(p,q) but it didn't work\n",
        "        d = math.sqrt(math.pow(p[0] - self.center[0],2) + math.pow(p[1] - self.center[1],2))\n",
        "        if d < self.radius: \n",
        "            return True\n",
        "        else:\n",
        "            return False\n",
        "    def contains_square(self, s):\n",
        "        #distance from center of self to center of square\n",
        "        d = math.sqrt((math.pow(self.center[0] - s.center[0],2)) + (math.pow(self.center[1] - s.center[1],2)))\n",
        "        #distance from center of self to center of square plus half the square corner bisector\n",
        "        if d + s.edge * math.sqrt(2) / 2 >= self.radius:\n",
        "            return False\n",
        "        else:\n",
        "            return True\n",
        "    def contains(self, x):\n",
        "        if isinstance(x, Circle):\n",
        "            d = math.sqrt((math.pow(self.center[0] - x.center[0],2)) + (math.pow(self.center[1] - x.center[1],2)))\n",
        "            if  d + x.radius > self.radius:\n",
        "                return False\n",
        "            else: \n",
        "                return True\n",
        "        elif isinstance(x, Square):\n",
        "            return self.contains_square(x)\n",
        "        else:\n",
        "            return self.contains_point(x)\n",
        "        "
      ],
      "execution_count": null,
      "outputs": []
    },
    {
      "cell_type": "code",
      "metadata": {
        "deletable": false,
        "editable": false,
        "nbgrader": {
          "checksum": "74626de1b17537800ef728a99c9216f2",
          "grade": true,
          "grade_id": "cell-d32407151e61934d",
          "locked": true,
          "points": 5,
          "schema_version": 1,
          "solution": false
        },
        "id": "otay81-L34gA",
        "colab": {
          "base_uri": "https://localhost:8080/",
          "height": 54
        },
        "outputId": "1b293c77-809d-44e8-c442-ff203ca1ea3f"
      },
      "source": [
        "# Let us test point containment first.  5 points. \n",
        "\n",
        "c = Circle((1, 2), 4)\n",
        "check_equal(c.contains_point((2, 2)), True)\n",
        "check_equal(c.contains_point((10, 20)), False)\n"
      ],
      "execution_count": null,
      "outputs": [
        {
          "output_type": "stream",
          "text": [
            "Success\n",
            "Success\n"
          ],
          "name": "stdout"
        }
      ]
    },
    {
      "cell_type": "code",
      "metadata": {
        "deletable": false,
        "editable": false,
        "nbgrader": {
          "checksum": "950fca76f6df9ebe782a6ebf076d48cf",
          "grade": true,
          "grade_id": "cell-fe416f608d3dd49b",
          "locked": true,
          "points": 5,
          "schema_version": 1,
          "solution": false
        },
        "id": "cXRkLybA34gH",
        "colab": {
          "base_uri": "https://localhost:8080/",
          "height": 54
        },
        "outputId": "5c0c509d-cca2-48c0-f55a-c5105ef1cac8"
      },
      "source": [
        "# Then, let us check square containment.  5 points. \n",
        "c = Circle((1, 2), 4)\n",
        "s1 = Square((2, 2), 1)\n",
        "s2 = Square((3, 2), 6)\n",
        "check_equal(c.contains_square(s1), True)\n",
        "check_equal(c.contains_square(s2), False)\n"
      ],
      "execution_count": null,
      "outputs": [
        {
          "output_type": "stream",
          "text": [
            "Success\n",
            "Success\n"
          ],
          "name": "stdout"
        }
      ]
    },
    {
      "cell_type": "code",
      "metadata": {
        "deletable": false,
        "editable": false,
        "nbgrader": {
          "checksum": "4b76c52fb90875a9e6a0566dc50bac8a",
          "grade": true,
          "grade_id": "cell-91dc3a6ba562b55c",
          "locked": true,
          "points": 10,
          "schema_version": 1,
          "solution": false
        },
        "id": "YPE_kn6X34gK",
        "colab": {
          "base_uri": "https://localhost:8080/",
          "height": 164
        },
        "outputId": "d6acec26-dff5-4ca4-ec41-d77a3029abbd"
      },
      "source": [
        "# Lastly, we check the contain method. 10 points. \n",
        "c1 = Circle((1, 2), 4)\n",
        "c2 = Circle((1, 2), 4)\n",
        "c3 = Circle((2, 2), 3)\n",
        "c4 = Circle((2, 2), 4)\n",
        "s1 = Square((2, 2), 1)\n",
        "s2 = Square((3, 2), 6)\n",
        "p1 = (2, 3)\n",
        "p2 = (3, 4)\n",
        "p3 = (4, 5)\n",
        "\n",
        "check_equal(c1.contains(p1), True, msg=\"a\")\n",
        "check_equal(c1.contains(p2), True, msg=\"b\")\n",
        "check_equal(c1.contains(p3), False, msg=\"c\")\n",
        "check_equal(c1.contains(s1), True, msg=\"d\")\n",
        "check_equal(c1.contains(s2), False, msg=\"e\")\n",
        "check_equal(c1.contains(c2), True, msg=\"f\")\n",
        "check_equal(c1.contains(c3), True, msg=\"g\")\n",
        "check_equal(c1.contains(c4), False, msg=\"h\")\n"
      ],
      "execution_count": null,
      "outputs": [
        {
          "output_type": "stream",
          "text": [
            "a : Success\n",
            "b : Success\n",
            "c : Success\n",
            "d : Success\n",
            "e : Success\n",
            "f : Success\n",
            "g : Success\n",
            "h : Success\n"
          ],
          "name": "stdout"
        }
      ]
    }
  ]
}