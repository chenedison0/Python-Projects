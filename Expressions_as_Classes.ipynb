{
  "nbformat": 4,
  "nbformat_minor": 0,
  "metadata": {
    "colab": {
      "name": "Homework_8_Expressions_as_Classes.ipynb",
      "provenance": [],
      "collapsed_sections": [],
      "include_colab_link": true
    },
    "kernelspec": {
      "display_name": "Python 3",
      "language": "python",
      "name": "python3"
    },
    "language_info": {
      "codemirror_mode": {
        "name": "ipython",
        "version": 3
      },
      "file_extension": ".py",
      "mimetype": "text/x-python",
      "name": "python",
      "nbconvert_exporter": "python",
      "pygments_lexer": "ipython3",
      "version": "3.7.3"
    },
    "test_info": {
      "id": "1ec64c033eae55d522ae8953ded69f7c3d2461c7"
    }
  },
  "cells": [
    {
      "cell_type": "markdown",
      "metadata": {
        "id": "view-in-github",
        "colab_type": "text"
      },
      "source": [
        "<a href=\"https://colab.research.google.com/github/chenedison0/Python-Projects/blob/main/Expressions_as_Classes.ipynb\" target=\"_parent\"><img src=\"https://colab.research.google.com/assets/colab-badge.svg\" alt=\"Open In Colab\"/></a>"
      ]
    },
    {
      "cell_type": "markdown",
      "metadata": {
        "id": "B-kQmZ6AoZBd"
      },
      "source": [
        "Before you turn this problem in, make sure everything runs as expected. First, **restart the kernel** (in the menubar, select Kernel$\\rightarrow$Restart) and then **run all cells** (in the menubar, select Cell$\\rightarrow$Run All).\n",
        "\n",
        "Make sure you fill in any place that says `YOUR CODE HERE` or \"YOUR ANSWER HERE\", as well as your name and collaborators below:"
      ]
    },
    {
      "cell_type": "code",
      "metadata": {
        "id": "0_SbSoJAoZBj"
      },
      "source": [
        "NAME = \"\"\n",
        "COLLABORATORS = \"\""
      ],
      "execution_count": null,
      "outputs": []
    },
    {
      "cell_type": "markdown",
      "metadata": {
        "id": "FrUgZlUYoZBz"
      },
      "source": [
        "---"
      ]
    },
    {
      "cell_type": "markdown",
      "metadata": {
        "deletable": false,
        "editable": false,
        "nbgrader": {
          "checksum": "fc8e074504020ae034c697b0b4f3fdcd",
          "grade": false,
          "grade_id": "cell-98e6a90ab4ca7935",
          "locked": true,
          "schema_version": 1,
          "solution": false
        },
        "id": "Jr91otvKoZB5"
      },
      "source": [
        "# Homework 8: Expressions as Classes\n",
        "\n",
        "Copyright Luca de Alfaro, 2019-20. \n",
        "License: [CC-BY-NC-ND](https://creativecommons.org/licenses/by-nc-nd/4.0/)."
      ]
    },
    {
      "cell_type": "markdown",
      "metadata": {
        "deletable": false,
        "editable": false,
        "nbgrader": {
          "checksum": "662351c6975f804a48cbc53e4d123cf2",
          "grade": false,
          "grade_id": "cell-3ee265cc4104a6a2",
          "locked": true,
          "schema_version": 1,
          "solution": false
        },
        "id": "rojym2O5oZB8"
      },
      "source": [
        "## Submission\n",
        "\n",
        "[Please submit to this Google Form](https://docs.google.com/forms/d/e/1FAIpQLSeuHE5pmZV6soac2Psvcfn3TOyMZmNWN0ws3SQcs_tcguEOiw/viewform?usp=sf_link).\n",
        "\n",
        "Deadline: Thursday November 12, 11pm (check on Canvas for updated information)."
      ]
    },
    {
      "cell_type": "markdown",
      "metadata": {
        "deletable": false,
        "editable": false,
        "nbgrader": {
          "checksum": "64214485d488fdf3337f97af21bc6fea",
          "grade": false,
          "grade_id": "cell-182dd86cdccb18c6",
          "locked": true,
          "schema_version": 1,
          "solution": false
        },
        "id": "ZilLVs5XoZB-"
      },
      "source": [
        "## Homework Format\n",
        "\n",
        "There are four questions, each worth 10 points.  The questions ask you to write derivatives methods for the classes `V` (Variable), `Minus`, `Multiply` and `Divide`."
      ]
    },
    {
      "cell_type": "markdown",
      "metadata": {
        "deletable": false,
        "editable": false,
        "nbgrader": {
          "checksum": "50401d46879bf9a18a07e74d6042b146",
          "grade": false,
          "grade_id": "cell-5b1795086daa0c0c",
          "locked": true,
          "schema_version": 1,
          "solution": false
        },
        "id": "cGBqeUQqoZCA"
      },
      "source": [
        "We will now describe a more sophisticated representation for an expression, based on a hierarchy of classes.  The class **Expr** is the generic class denoting an expression.  It is an _abstract_ class: only its subclasses will be instantiated.  For every operator, such as `+`, there will be a subclass, such as `Plus`.  Variables will correspond to a special subclass, called `V`.  Numerical constants will be just represented by numbers, and not by subclasses of `Expr`. \n",
        "\n",
        "## The `Expr` class\n",
        "\n",
        "The `Expr` class implements the various [methods used to emulate numerical types](https://docs.python.org/3/reference/datamodel.html?#emulating-numeric-types), such as `__add__`, `__sub__`, and so forth.  In this way, we can build an expression simply by writing\n",
        "\n",
        "    3 * V('x') / 2\n",
        "\n",
        "Compared with the representation of expressions seen in the previous chapter, this class-based representation offers several advantages.  First, we can build expressions in a natural way as shown above, via the over-riding of the usual arithmetic operators.  Second, if we introduce a new operator, all we need is provide the implementation of the new operator: we do not need to modify the shared code that traverses the tree, and add one more case to a long case-analysis.  In other words, the code is far more modular.  This may seem a small point, but if one were to extend the representation of expressions to involve tensors (matrices) and operations on tensors, as is done in the symbolic representation of expressions used in machine-learning, the number of operators could easily grow to a hundred or more, making a modular approach the only reasonable one. \n",
        "\n",
        "### The `eval` method\n",
        "\n",
        "We endow our class `Expr` with a method `eval`, which given a variable valuation -- a dictionary mapping variable names to values -- tries to compute the expression insofar as possible.  The method `eval` first evaluates the children $c_1, \\ldots, c_n$ of the given expression, computing their values $v_1, \\ldots, v_n$.  These values $v_i$, for $1 \\leq i \\leq n$, can be either _symbolic_, if they are an instance of `Expr`, or _numeric_.  They are symbolic if some of the variables in their subexpression was not assigned a value by our variable assignment.  For instance, if we evaluate\n",
        "\n",
        "    (V('x') + 3) / V('y')\n",
        "\n",
        "with respect to the assignment `{'x': 2}`, we obtain \n",
        "\n",
        "    5 / V('y')\n",
        "\n",
        "which is still symbolic (an instance of `Expr`).  There are two cases: \n",
        "\n",
        "* If all $v_1, \\ldots, v_n$ are numeric, `eval` calls the `op` method with arguments $v_1, \\ldots, v_n$, to compute the numerical value of the expression.  The method `op` is not implemented in `Expr`, but rather, it is implemented in each operator `Plus`, `Minus`, etc, so as to compute the numerical value according to the operator. \n",
        "\n",
        "* If one or more of the results $v_1, \\ldots, v_n$ are symbolic, then `eval` returns a new expression, with the same operator as the old one, but with children $v_1, \\ldots, v_n$ rather than $c_1, \\ldots, c_n$. \n",
        "\n",
        "We invite you to study the implementation of `eval` in detail, for the ideas used there will be used also in the implementation of other methods."
      ]
    },
    {
      "cell_type": "code",
      "metadata": {
        "deletable": false,
        "editable": false,
        "nbgrader": {
          "checksum": "2226fd94f01e04e4aa5eb0884950b486",
          "grade": false,
          "grade_id": "cell-a76b0bc34231f1c5",
          "locked": true,
          "schema_version": 1,
          "solution": false
        },
        "id": "8Vaovsz3oZCC"
      },
      "source": [
        "class Expr(object):\n",
        "    \"\"\"Abstract class representing expressions\"\"\"\n",
        "\n",
        "    def __init__(self, *args):\n",
        "        self.children = list(args)\n",
        "        self.child_values = None\n",
        "\n",
        "    def eval(self, valuation=None):\n",
        "        \"\"\"Evaluates the value of the expression with respect to a given\n",
        "        variable evaluation.\"\"\"\n",
        "        # First, we evaluate the children.\n",
        "        child_values = [c.eval(valuation=valuation) if isinstance(c, Expr) else c\n",
        "                        for c in self.children]\n",
        "        # Then, we evaluate the expression itself.\n",
        "        if any([isinstance(v, Expr) for v in child_values]):\n",
        "            # Symbolic result.\n",
        "            return self.__class__(*child_values)\n",
        "        else:\n",
        "            # Concrete result.\n",
        "            return self.op(*child_values)\n",
        "\n",
        "    def op(self, *args):\n",
        "        \"\"\"The op method computes the value of the expression, given the\n",
        "        numerical value of its subexpressions.  It is not implemented in\n",
        "        Expr, but rather, each subclass of Expr should provide its\n",
        "        implementation.\"\"\"\n",
        "        raise NotImplementedError()\n",
        "\n",
        "    def __repr__(self):\n",
        "        \"\"\"Represents the expression as the name of the class, followed by the\n",
        "        children.\"\"\"\n",
        "        return \"%s(%s)\" % (self.__class__.__name__,\n",
        "                        ', '.join(repr(c) for c in self.children))\n",
        "\n",
        "    # Expression constructors\n",
        "\n",
        "    def __add__(self, other):\n",
        "        return Plus(self, other)\n",
        "\n",
        "    def __radd__(self, other):\n",
        "        return Plus(self, other)\n",
        "\n",
        "    def __sub__(self, other):\n",
        "        return Minus(self, other)\n",
        "\n",
        "    def __rsub__(self, other):\n",
        "        return Minus(other, self)\n",
        "\n",
        "    def __mul__(self, other):\n",
        "        return Multiply(self, other)\n",
        "\n",
        "    def __rmul__(self, other):\n",
        "        return Multiply(other, self)\n",
        "\n",
        "    def __truediv__(self, other):\n",
        "        return Divide(self, other)\n",
        "\n",
        "    def __rtruediv__(self, other):\n",
        "        return Divide(other, self)"
      ],
      "execution_count": null,
      "outputs": []
    },
    {
      "cell_type": "markdown",
      "metadata": {
        "deletable": false,
        "editable": false,
        "nbgrader": {
          "checksum": "7363e10afc7f3aa54a4e9baf9dc1f6a7",
          "grade": false,
          "grade_id": "cell-34c45640485a00d1",
          "locked": true,
          "schema_version": 1,
          "solution": false
        },
        "id": "Cuw76Gr0oZCL"
      },
      "source": [
        "Variables are expressions containing only one child, of type string, which is the name of the variable.  So `V(\"x\")` will be a variable with name `\"x\"`.  The method `eval` of a variable over-rides that of `Expr`. "
      ]
    },
    {
      "cell_type": "code",
      "metadata": {
        "deletable": false,
        "editable": false,
        "nbgrader": {
          "checksum": "9a2ac792fb39cb54e7f78e36570a81a6",
          "grade": false,
          "grade_id": "cell-2e7cd5d44620a5f9",
          "locked": true,
          "schema_version": 1,
          "solution": false
        },
        "id": "fIjESsU-oZCP"
      },
      "source": [
        "class V(Expr):\n",
        "    \"\"\"Variable.\"\"\"\n",
        "\n",
        "    def __init__(self, *args):\n",
        "        \"\"\"Variables must be of type string.\"\"\"\n",
        "        assert len(args) == 1\n",
        "        assert isinstance(args[0], str)\n",
        "        super().__init__(*args)\n",
        "\n",
        "    def eval(self, valuation=None):\n",
        "        \"\"\"If the variable is in the evaluation, returns the\n",
        "        value of the variable; otherwise, returns the expression.\"\"\"\n",
        "        if valuation is not None and self.children[0] in valuation:\n",
        "            return valuation[self.children[0]]\n",
        "        else:\n",
        "            return self\n"
      ],
      "execution_count": null,
      "outputs": []
    },
    {
      "cell_type": "markdown",
      "metadata": {
        "deletable": false,
        "editable": false,
        "nbgrader": {
          "checksum": "61e699e32b17b008fecba903c00addf9",
          "grade": false,
          "grade_id": "cell-6062fee92a895122",
          "locked": true,
          "schema_version": 1,
          "solution": false
        },
        "id": "xDY4ZGDzoZCa"
      },
      "source": [
        "Here are the constructors for the other operators; for them, we just need to provide an implementation for `op`."
      ]
    },
    {
      "cell_type": "code",
      "metadata": {
        "deletable": false,
        "editable": false,
        "nbgrader": {
          "checksum": "55f39d419dbef29b57b510446d736061",
          "grade": false,
          "grade_id": "cell-c9b04b08d6192dc1",
          "locked": true,
          "schema_version": 1,
          "solution": false
        },
        "id": "7OEMpwjPoZCd"
      },
      "source": [
        "class Plus(Expr):\n",
        "    def op(self, x, y):\n",
        "        return x + y\n",
        "\n",
        "class Minus(Expr):\n",
        "    def op(self, x, y):\n",
        "        return x - y\n",
        "\n",
        "class Multiply(Expr):\n",
        "    def op(self, x, y):\n",
        "        return x * y\n",
        "\n",
        "class Divide(Expr):\n",
        "    def op(self, x, y):\n",
        "        return x / y\n"
      ],
      "execution_count": null,
      "outputs": []
    },
    {
      "cell_type": "markdown",
      "metadata": {
        "deletable": false,
        "editable": false,
        "nbgrader": {
          "checksum": "4f79ac490a17548d1e23e0e15a60ca4b",
          "grade": false,
          "grade_id": "cell-3ffa07340e8df55",
          "locked": true,
          "schema_version": 1,
          "solution": false
        },
        "id": "gUZewpp9oZCm"
      },
      "source": [
        "We can build and evaluate expressions quite simply."
      ]
    },
    {
      "cell_type": "code",
      "metadata": {
        "deletable": false,
        "editable": false,
        "nbgrader": {
          "checksum": "dd37f86e462d2c1c4e0b2b7ef1a6df6f",
          "grade": false,
          "grade_id": "cell-1403020498520ae6",
          "locked": true,
          "schema_version": 1,
          "solution": false
        },
        "id": "u06rxUMroZCp",
        "colab": {
          "base_uri": "https://localhost:8080/"
        },
        "outputId": "6fab5ebb-57f6-423e-8183-ca96acbd9143"
      },
      "source": [
        "e = V('x') + 3\n",
        "print(e)\n",
        "print(e.eval())\n",
        "print(e.eval({'x': 2}))\n"
      ],
      "execution_count": null,
      "outputs": [
        {
          "output_type": "stream",
          "text": [
            "Plus(V('x'), 3)\n",
            "Plus(V('x'), 3)\n",
            "5\n"
          ],
          "name": "stdout"
        }
      ]
    },
    {
      "cell_type": "code",
      "metadata": {
        "deletable": false,
        "editable": false,
        "nbgrader": {
          "checksum": "af6b1368695555e6b8392cdebaf8e026",
          "grade": false,
          "grade_id": "cell-cb2e122eaf1c9c4a",
          "locked": true,
          "schema_version": 1,
          "solution": false
        },
        "id": "FKi6J-IaoZCx",
        "colab": {
          "base_uri": "https://localhost:8080/"
        },
        "outputId": "f707fed1-01f6-4e79-9043-823c23419523"
      },
      "source": [
        "e = (V('x') + V('y')) * (2 + V('x'))\n",
        "print(e.eval())\n",
        "print(e.eval({'x': 4}))\n"
      ],
      "execution_count": null,
      "outputs": [
        {
          "output_type": "stream",
          "text": [
            "Multiply(Plus(V('x'), V('y')), Plus(V('x'), 2))\n",
            "Multiply(Plus(4, V('y')), 6)\n"
          ],
          "name": "stdout"
        }
      ]
    },
    {
      "cell_type": "markdown",
      "metadata": {
        "deletable": false,
        "editable": false,
        "nbgrader": {
          "checksum": "5410d0469d510d1d2334ee4f5b7ad88d",
          "grade": false,
          "grade_id": "cell-9f3cd0617d5cc626",
          "locked": true,
          "schema_version": 1,
          "solution": false
        },
        "id": "ATB61GrzoZC5"
      },
      "source": [
        "Let's define `check_equal` as usual."
      ]
    },
    {
      "cell_type": "code",
      "metadata": {
        "deletable": false,
        "editable": false,
        "nbgrader": {
          "checksum": "e0777f20a20731c04fbae01742139ac8",
          "grade": false,
          "grade_id": "cell-f7fe75193d1f905e",
          "locked": true,
          "schema_version": 1,
          "solution": false
        },
        "id": "v6oVbTVYoZC-"
      },
      "source": [
        "def check_equal(x, y, msg=None):\n",
        "    if x != y:\n",
        "        if msg is None:\n",
        "            print(\"Error:\")\n",
        "        else:\n",
        "            print(\"Error in\", msg, \":\")\n",
        "        print(\"    Your answer was:\", x)\n",
        "        print(\"    Correct answer: \", y)\n",
        "    assert x == y, \"%r and %r are different\" % (x, y)\n",
        "    print(\"Success\")"
      ],
      "execution_count": null,
      "outputs": []
    },
    {
      "cell_type": "markdown",
      "metadata": {
        "deletable": false,
        "editable": false,
        "nbgrader": {
          "checksum": "749d778bd36b208161633e8621b479a2",
          "grade": false,
          "grade_id": "cell-aee78a1762e7a0b4",
          "locked": true,
          "schema_version": 1,
          "solution": false
        },
        "id": "hZy4UnenoZDj"
      },
      "source": [
        "## Derivating an expression\n",
        "\n",
        "We will develop here a method `derivate` such that, for an expression `e`, the method call `e.derivate('x')` returns the derivative of the expression with respect to `V('x')`.  To implement it, we note that to deriva a composite expression with respect to a variable, we need to derivate the subexpressions with respect to that same variable.  Thus, we divide the work as follows: \n",
        "\n",
        "* The method `derivate` will first call the method `derivate` for all the subexpressions, that is, the children of the expression, accumulating the results into a list `partials` (so called because these are partial derivatives). \n",
        "* Then, the method `derivate` will call `op_derivate`.  This method is an abstract method of `Expr`, and is implemented in each operator (`Plus`, `Minus`, etc).  The method `op_derivate` will compute the derivative of the expression, according to the operator type. \n",
        "\n",
        "Let us start by writing `derivate`.\n"
      ]
    },
    {
      "cell_type": "code",
      "metadata": {
        "deletable": false,
        "editable": false,
        "nbgrader": {
          "checksum": "c6164d89c48a79ba8b82f8b7549641b3",
          "grade": false,
          "grade_id": "cell-785f898d6c6077de",
          "locked": true,
          "schema_version": 1,
          "solution": false
        },
        "id": "BihaUJD8oZDm"
      },
      "source": [
        "def expr_derivate(self, var):\n",
        "    \"\"\"Computes the derivative of the expression with respect to var.\"\"\"\n",
        "    partials = [(c.derivate(var) if isinstance(c, Expr) else 0)\n",
        "                for c in self.children]\n",
        "    return self.op_derivate(var, partials).eval()\n",
        "\n",
        "Expr.derivate = expr_derivate\n",
        "\n",
        "def expr_op_derivate(self, var, partials):\n",
        "    raise NotImplementedError()\n",
        "\n",
        "Expr.op_derivate = expr_op_derivate\n"
      ],
      "execution_count": null,
      "outputs": []
    },
    {
      "cell_type": "markdown",
      "metadata": {
        "deletable": false,
        "editable": false,
        "nbgrader": {
          "checksum": "fe830a0356e742b0b204beb14cb70280",
          "grade": false,
          "grade_id": "cell-db03a81de69b5e1a",
          "locked": true,
          "schema_version": 1,
          "solution": false
        },
        "id": "e4jMmRHSoZDv"
      },
      "source": [
        "In the above code, note that we have to take care to call the `derivate` method for a subexpression only if that subexpression has type `Expr`.  If the subexpression does not have type `Expr`, then it is a constant, and its derivative with respect to a variable will be 0. \n",
        "\n",
        "The last `eval()` in the above expression is simply an attempt to simplify the resulting expression.  \n",
        "\n",
        "Let us now write `op_derivate` for `Plus`.  We have:\n",
        "\n",
        "$$\n",
        "\\frac{\\partial}{\\partial x} (f + g) \\:=\\: \\frac{\\partial f}{\\partial x} + \\frac{\\partial g}{\\partial x}\n",
        "$$\n",
        "\n",
        "and translating this into code:"
      ]
    },
    {
      "cell_type": "code",
      "metadata": {
        "deletable": false,
        "editable": false,
        "nbgrader": {
          "checksum": "e6746a40b37556c1ec11b3f532255bcf",
          "grade": false,
          "grade_id": "cell-a8df9bd27ff7543f",
          "locked": true,
          "schema_version": 1,
          "solution": false
        },
        "id": "xpsWMYb-oZDw"
      },
      "source": [
        "def plus_op_derivate(self, var, partials):\n",
        "    return Plus(partials[0], partials[1])\n",
        "\n",
        "Plus.op_derivate = plus_op_derivate\n"
      ],
      "execution_count": null,
      "outputs": []
    },
    {
      "cell_type": "markdown",
      "metadata": {
        "deletable": false,
        "editable": false,
        "nbgrader": {
          "checksum": "0168800255f565aa68bd9940960aa85e",
          "grade": false,
          "grade_id": "cell-c2115f1b2139e52f",
          "locked": true,
          "schema_version": 1,
          "solution": false
        },
        "id": "ixOC4b7woZD2"
      },
      "source": [
        "Before we can test the code, we need to have some variables. What is the derivative of `V('x')` with respect to a variable?  If the variable is `x`, that is, the same variable appearing in the `V` constructor, then the derivative is 1, otherwise, it is 0.  This because for variables, \n",
        "\n",
        "$$\n",
        "\\frac{\\partial x}{\\partial x} = 1 \\qquad \\frac{\\partial x}{\\partial y} = 0\n",
        "\\; .\n",
        "$$\n",
        "\n",
        "We will let you translate this into code; it's a one-liner. "
      ]
    },
    {
      "cell_type": "markdown",
      "metadata": {
        "id": "Z47LnOyfoZD4"
      },
      "source": [
        "## Question 1: derivative of a variable"
      ]
    },
    {
      "cell_type": "code",
      "metadata": {
        "deletable": false,
        "nbgrader": {
          "checksum": "c054b2a006451ab46e146a36e51e92e6",
          "grade": false,
          "grade_id": "cell-e164b9abcca0920b",
          "locked": false,
          "schema_version": 1,
          "solution": true
        },
        "id": "FOpOYJixoZD5"
      },
      "source": [
        "### Question 1: Definition of `V.derivate`\n",
        "\n",
        "def variable_derivate(self, var):\n",
        "    # YOUR CODE HERE\n",
        "    return int(self.children[0] == var)\n",
        "V.derivate = variable_derivate\n"
      ],
      "execution_count": null,
      "outputs": []
    },
    {
      "cell_type": "code",
      "metadata": {
        "deletable": false,
        "editable": false,
        "nbgrader": {
          "checksum": "09310bb216dc310c9a38ee662d541cee",
          "grade": true,
          "grade_id": "cell-90c99e5e7adab3b9",
          "locked": true,
          "points": 10,
          "schema_version": 1,
          "solution": false
        },
        "id": "MLi7ouLQoZED",
        "colab": {
          "base_uri": "https://localhost:8080/"
        },
        "outputId": "d8c70821-ca90-4860-bb3a-28d652fb91a0"
      },
      "source": [
        "### Tests for Question 1: 10 points\n",
        "\n",
        "e = V('x') + 3\n",
        "print(e.derivate('x'))\n",
        "check_equal(e.derivate('x'), 1)\n",
        "check_equal(e.derivate('y'), 0)\n"
      ],
      "execution_count": null,
      "outputs": [
        {
          "output_type": "stream",
          "text": [
            "1\n",
            "Success\n",
            "Success\n"
          ],
          "name": "stdout"
        }
      ]
    },
    {
      "cell_type": "markdown",
      "metadata": {
        "deletable": false,
        "editable": false,
        "nbgrader": {
          "checksum": "11e9f13b4d905be71c7366ae06ab3d83",
          "grade": false,
          "grade_id": "cell-9a3037dad3b7b7ad",
          "locked": true,
          "schema_version": 1,
          "solution": false
        },
        "id": "JW6xwdsmoZEI"
      },
      "source": [
        "We now let you define `op_derivate` for the other operators.  If you need to refresh your mind, [you can consult the Wikipedia page on derivatives](https://en.wikipedia.org/wiki/Derivative)."
      ]
    },
    {
      "cell_type": "markdown",
      "metadata": {
        "deletable": false,
        "editable": false,
        "nbgrader": {
          "checksum": "5194515a3331036d72308724cd1ef9e3",
          "grade": false,
          "grade_id": "cell-de356885cc338c95",
          "locked": true,
          "schema_version": 1,
          "solution": false
        },
        "id": "tTd9EqdPoZEJ"
      },
      "source": [
        "## Question 2: Derivative of subtraction\n",
        "\n",
        "Define an `op_derivate` method for `Minus`, similarly to what we did for `Plus`. "
      ]
    },
    {
      "cell_type": "code",
      "metadata": {
        "deletable": false,
        "nbgrader": {
          "checksum": "60f58373a097ab402208ccc998ee3a28",
          "grade": false,
          "grade_id": "cell-57dda332236eb623",
          "locked": false,
          "schema_version": 1,
          "solution": true
        },
        "id": "xuwSqhwAoZEK"
      },
      "source": [
        "### Question 2: write `Minus.op_derivate`\n",
        "\n",
        "def minus_op_derivate(self, var, partials):\n",
        "    # YOUR CODE HERE\n",
        "    return Minus(partials[0], partials[1])\n",
        "Minus.op_derivate = minus_op_derivate\n"
      ],
      "execution_count": null,
      "outputs": []
    },
    {
      "cell_type": "code",
      "metadata": {
        "deletable": false,
        "editable": false,
        "nbgrader": {
          "checksum": "b830e5e8494566ed95262013e1f4d96a",
          "grade": true,
          "grade_id": "cell-4b029caadc8944d3",
          "locked": true,
          "points": 10,
          "schema_version": 1,
          "solution": false
        },
        "id": "azAMT08-oZER",
        "colab": {
          "base_uri": "https://localhost:8080/"
        },
        "outputId": "2f749b9e-5473-4fbf-ee36-79a3cb9bad3a"
      },
      "source": [
        "### Tests for `Minus.op_derivate`\n",
        "\n",
        "e = V('x') - 4\n",
        "check_equal(e.derivate('x'), 1)\n",
        "\n",
        "e = 4 - V('x')\n",
        "check_equal(e.derivate('x'), -1)\n",
        "\n"
      ],
      "execution_count": null,
      "outputs": [
        {
          "output_type": "stream",
          "text": [
            "Success\n",
            "Success\n"
          ],
          "name": "stdout"
        }
      ]
    },
    {
      "cell_type": "markdown",
      "metadata": {
        "id": "Nn2kOJPzoZEV"
      },
      "source": [
        "## Question 3: Define `op_derivate` for `Multiply`\n",
        "\n",
        "Now you have to define the method `op_derivate` for a node of type `Multiply`. \n",
        "You may want to keep in mind the formula for the derivation of a product: \n",
        "\n",
        "$$\n",
        "\\frac{\\partial}{\\partial x} (f \\cdot g) = \n",
        "\\frac{\\partial f}{\\partial x} \\cdot g + f \\cdot \\frac{\\partial g}{\\partial x} \\; .\n",
        "$$"
      ]
    },
    {
      "cell_type": "code",
      "metadata": {
        "deletable": false,
        "nbgrader": {
          "checksum": "ad6bd0c2f40f6997ff38ccbe384cf9c6",
          "grade": false,
          "grade_id": "cell-cbfa14ec0a45c625",
          "locked": false,
          "schema_version": 1,
          "solution": true
        },
        "id": "EdxPpsA9oZEX"
      },
      "source": [
        "### Question 3: `Multiply.op_derivate`\n",
        "\n",
        "def multiply_op_derivate(self, var, partials):\n",
        "    \"\"\"Please generate a formula exactly as described by the above math formula.\"\"\"\n",
        "    # YOUR CODE HERE\n",
        "    return Plus(Multiply(self.children[0], partials[1]),Multiply(self.children[1], partials[0]))\n",
        "\n",
        "Multiply.op_derivate = multiply_op_derivate\n"
      ],
      "execution_count": null,
      "outputs": []
    },
    {
      "cell_type": "code",
      "metadata": {
        "deletable": false,
        "editable": false,
        "nbgrader": {
          "checksum": "4fb34d61dfadbe922b8d35f1fe320bf9",
          "grade": true,
          "grade_id": "cell-328446ce85cf7043",
          "locked": true,
          "points": 10,
          "schema_version": 1,
          "solution": false
        },
        "id": "i6gx5IaqoZEb",
        "colab": {
          "base_uri": "https://localhost:8080/"
        },
        "outputId": "38f37ec6-dee0-42a8-a95e-19c8136c2566"
      },
      "source": [
        "### Question 3 Tests: 10 points, for `Multiply.op_derivate`\n",
        "\n",
        "e = V('x') * V('y')\n",
        "check_equal(e.derivate('x').eval(dict(x=3, y=2)), 2)\n",
        "\n",
        "e = V('x') * V('x')\n",
        "check_equal(e.derivate('x').eval(dict(x=5)), 10)\n",
        "\n"
      ],
      "execution_count": null,
      "outputs": [
        {
          "output_type": "stream",
          "text": [
            "Success\n",
            "Success\n"
          ],
          "name": "stdout"
        }
      ]
    },
    {
      "cell_type": "markdown",
      "metadata": {
        "deletable": false,
        "editable": false,
        "nbgrader": {
          "checksum": "ac11f28dd8d0b944c953b6e3772daecd",
          "grade": false,
          "grade_id": "cell-90baf75f202c76cd",
          "locked": true,
          "schema_version": 1,
          "solution": false
        },
        "id": "s3CUEH3WoZEh"
      },
      "source": [
        "Why do we use the .eval() in the above assertion?  Because the problem is that, if you implement derivatives in the natural way, the expression you obtain is not simplified.  For instance, this is what we get:"
      ]
    },
    {
      "cell_type": "code",
      "metadata": {
        "deletable": false,
        "editable": false,
        "nbgrader": {
          "checksum": "29654a525bf64b5327c9e84d7911640a",
          "grade": false,
          "grade_id": "cell-85b702e7517925c0",
          "locked": true,
          "schema_version": 1,
          "solution": false
        },
        "id": "uO1D3xcYoZEh",
        "colab": {
          "base_uri": "https://localhost:8080/"
        },
        "outputId": "91f4fa24-7042-4218-9475-4efa4ec96783"
      },
      "source": [
        "e.derivate('x')\n"
      ],
      "execution_count": null,
      "outputs": [
        {
          "output_type": "execute_result",
          "data": {
            "text/plain": [
              "Plus(Multiply(V('x'), 1), Multiply(V('x'), 1))"
            ]
          },
          "metadata": {
            "tags": []
          },
          "execution_count": 37
        }
      ]
    },
    {
      "cell_type": "markdown",
      "metadata": {
        "deletable": false,
        "editable": false,
        "nbgrader": {
          "checksum": "f1bcded6a3df3405ba33a63a1c31bde4",
          "grade": false,
          "grade_id": "cell-90ec8977f3734fdf",
          "locked": true,
          "schema_version": 1,
          "solution": false
        },
        "id": "neOCXf0WoZEn"
      },
      "source": [
        "## Question 4: Implement `op_derivate` for `Divide`.\n",
        "\n",
        "Now you have to define the method `op_derivate` for a node of type `Divide`. \n",
        "You may want to keep in mind the formula for the derivation of a ratio: \n",
        "\n",
        "$$\n",
        "\\frac{\\partial}{\\partial x} \\frac{f}{g} =\n",
        "\\frac{\n",
        "\\frac{\\partial f}{\\partial x} \\cdot g - f \\cdot \\frac{\\partial g}{\\partial x}\n",
        "}{g^2} \\; .\n",
        "$$"
      ]
    },
    {
      "cell_type": "code",
      "metadata": {
        "deletable": false,
        "nbgrader": {
          "checksum": "1095a0074c114a5e49b012028333e1a7",
          "grade": false,
          "grade_id": "cell-bba89a1f1ef1c678",
          "locked": false,
          "schema_version": 1,
          "solution": true
        },
        "id": "TqaphVcToZEo"
      },
      "source": [
        "### Question 4: implement `Divide.op_derivate`\n",
        "\n",
        "def divide_op_derivate(self, var, partials):\n",
        "    # YOUR CODE HERE\n",
        "    return Divide(Minus(Multiply(self.children[1], partials[0]),Multiply(self.children[0], partials[1])), self.children[1] * self.children[1])\n",
        "Divide.op_derivate = divide_op_derivate\n"
      ],
      "execution_count": null,
      "outputs": []
    },
    {
      "cell_type": "code",
      "metadata": {
        "deletable": false,
        "editable": false,
        "nbgrader": {
          "checksum": "cd893a5a2fe9565e05c51809a38fb64e",
          "grade": true,
          "grade_id": "cell-9e416b8518c3069c",
          "locked": true,
          "points": 10,
          "schema_version": 1,
          "solution": false
        },
        "id": "DD_G4_3KoZEv",
        "colab": {
          "base_uri": "https://localhost:8080/"
        },
        "outputId": "dc97cf51-fc8c-43cb-deaa-a5c8a1bfbf5e"
      },
      "source": [
        "### Question 4, 10 points: Tests for `Divide.op_derivate`\n",
        "\n",
        "e = V('x') / V('y')\n",
        "check_equal(e.derivate('x').eval(dict(x=3, y=2)), 0.5)\n",
        "check_equal(e.derivate('y').eval(dict(x=3, y=2)), -3 / 4)\n",
        "\n"
      ],
      "execution_count": null,
      "outputs": [
        {
          "output_type": "stream",
          "text": [
            "Success\n",
            "Success\n"
          ],
          "name": "stdout"
        }
      ]
    }
  ]
}