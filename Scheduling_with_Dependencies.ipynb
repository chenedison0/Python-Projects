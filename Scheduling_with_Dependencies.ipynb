{
  "nbformat": 4,
  "nbformat_minor": 0,
  "metadata": {
    "colab": {
      "name": "Homework_11_Scheduling_with_Dependencies.ipynb",
      "provenance": [],
      "collapsed_sections": [],
      "include_colab_link": true
    },
    "kernelspec": {
      "display_name": "Python 3",
      "language": "python",
      "name": "python3"
    },
    "language_info": {
      "codemirror_mode": {
        "name": "ipython",
        "version": 3
      },
      "file_extension": ".py",
      "mimetype": "text/x-python",
      "name": "python",
      "nbconvert_exporter": "python",
      "pygments_lexer": "ipython3",
      "version": "3.7.3"
    },
    "test_info": {
      "id": "1ec64c033eae55d522ae8953ded69f7c3d2461c7"
    }
  },
  "cells": [
    {
      "cell_type": "markdown",
      "metadata": {
        "id": "view-in-github",
        "colab_type": "text"
      },
      "source": [
        "<a href=\"https://colab.research.google.com/github/chenedison0/Python-Projects/blob/main/Scheduling_with_Dependencies.ipynb\" target=\"_parent\"><img src=\"https://colab.research.google.com/assets/colab-badge.svg\" alt=\"Open In Colab\"/></a>"
      ]
    },
    {
      "cell_type": "markdown",
      "metadata": {
        "id": "ZhKMrPJbbOsh"
      },
      "source": [
        "Before you turn this problem in, make sure everything runs as expected. First, **restart the kernel** (in the menubar, select Kernel$\\rightarrow$Restart) and then **run all cells** (in the menubar, select Cell$\\rightarrow$Run All).\n",
        "\n",
        "Make sure you fill in any place that says `YOUR CODE HERE` or \"YOUR ANSWER HERE\", as well as your name and collaborators below:"
      ]
    },
    {
      "cell_type": "code",
      "metadata": {
        "id": "1f_ex8XGbOsi"
      },
      "source": [
        "NAME = \"\"\n",
        "COLLABORATORS = \"\""
      ],
      "execution_count": null,
      "outputs": []
    },
    {
      "cell_type": "markdown",
      "metadata": {
        "id": "Tc7Z_0lCbOsi"
      },
      "source": [
        "---"
      ]
    },
    {
      "cell_type": "markdown",
      "metadata": {
        "deletable": false,
        "editable": false,
        "nbgrader": {
          "checksum": "767690caa09bf309165134adec898cd2",
          "grade": false,
          "grade_id": "cell-fc6b5241f439f72f",
          "locked": true,
          "schema_version": 1,
          "solution": false
        },
        "id": "ssman6e-bOsj"
      },
      "source": [
        "# Homework 11: Scheduling with Dependencies\n",
        "\n",
        "Copyright Luca de Alfaro, 2019-20. \n",
        "License: [CC-BY-NC-ND](https://creativecommons.org/licenses/by-nc-nd/4.0/)."
      ]
    },
    {
      "cell_type": "markdown",
      "metadata": {
        "deletable": false,
        "editable": false,
        "nbgrader": {
          "checksum": "93460885ba39aaf770bbcf46acb31f4a",
          "grade": false,
          "grade_id": "cell-a13bd1c44a595199",
          "locked": true,
          "schema_version": 1,
          "solution": false
        },
        "id": "wqh7kL1wbOsj"
      },
      "source": [
        "## Submission\n",
        "\n",
        "[Please submit to this Google Form](https://docs.google.com/forms/d/e/1FAIpQLSdVfcA_LZdtjJoLKBSkyHwbvxXvow-CX4pQEMmW3UVm7X_JrA/viewform?usp=sf_link).\n",
        "\n",
        "Deadline: Friday December 4, 11pm (check on Canvas for updated information)."
      ]
    },
    {
      "cell_type": "markdown",
      "metadata": {
        "deletable": false,
        "editable": false,
        "nbgrader": {
          "checksum": "90a74a81d08e34489013a1201369ad0a",
          "grade": false,
          "grade_id": "cell-dcea49d1e015f68d",
          "locked": true,
          "schema_version": 1,
          "solution": false
        },
        "id": "luSJnPqbbOsj"
      },
      "source": [
        "## Test Format\n",
        "\n",
        "This test contains 4 questions, for a total of 90 points. "
      ]
    },
    {
      "cell_type": "markdown",
      "metadata": {
        "deletable": false,
        "editable": false,
        "nbgrader": {
          "checksum": "637cf59cf5df5ba15cbc30a73b035287",
          "grade": false,
          "grade_id": "cell-7783f146ca3d6158",
          "locked": true,
          "schema_version": 1,
          "solution": false
        },
        "id": "lmkRq-ubbOsj"
      },
      "source": [
        "Assume you have to prepare Pasta Carbonara.   My version of the recipe goes like this: \n",
        "\n",
        "> Dice onions and pancetta, and fry in a mix of olive oil and butter, slowly.  Separately, put in a bowl as many eggs as there are dinner guests; you can either put in the bowls the yolks only, or you can add a few whites if you wish.  Beat the eggs.  \n",
        "> Bring water to a boil, and when it boils, salt it.  Put the pasta in (I like Penne Rigate).   When cooked, colander the water away, and quickly unite in the bowl the beaten eggs, the pasta, and the pancetta.  Mix well and serve immediately. \n",
        "\n",
        "If you have to invite people over, you could do this recipe sequentially, and first worry about cooking the pasta: warming the water, putting the pasta in, then colandering it.  Then you could worry about cooking the pancetta and onions.  When that's done, you can start to beat the eggs. Finally, you could unite everything.  Technically, that would work, but there would be two problems.  The first is that, of course, the pasta would be rather cold by the time it would be served, a capital sin (pasta must be served immediately after it is cooked).  Secondly, even if you rehash the order so that you first cook the pancetta, then beat the eggs, then cook the pasta, then technically this works -- but it would take you well over one hour to have everything ready.  You want to do things in parallel, cooking the pancetta while heating up the water for the pasta, and so forth.  You want to discover what are the things that need to be done one after the other, and what are the things that can be done in parallel, and in which order to do everything.  \n",
        "\n",
        "Great cooking, by the way, is much about the perfect timing, not only the perfect preparation.  You have to have the various preparations ready at the same time, to unite them just right.  We will worry about timing in the second part of this chapter; first, we worry about what we can do and in which order.\n",
        "\n",
        "As an aside for those of you who are more interested in compiling code than in cooking, the problem of how to compile C or C++ code is very similar.  A makefile defines dependencies between tasks: you have to have compiled pathlib.c before you can link the result together with something else.  The task of the make program is to figure out how to parallelize the compilation, so that independent tasks can happen in different processes (possibly on different CPU cores), while respecting the precedence constraints between tasks.  We will mention this application in some of the exercises of the chapter. \n",
        "\n",
        "\n",
        "\n"
      ]
    },
    {
      "cell_type": "markdown",
      "metadata": {
        "deletable": false,
        "editable": false,
        "nbgrader": {
          "checksum": "c746ef312885249b098a4a4fbf9f588c",
          "grade": false,
          "grade_id": "cell-fe45e7ce127db0d4",
          "locked": true,
          "schema_version": 1,
          "solution": false
        },
        "id": "6070rYc2bOsj"
      },
      "source": [
        "## Scheduling dependent tasks"
      ]
    },
    {
      "cell_type": "markdown",
      "metadata": {
        "deletable": false,
        "editable": false,
        "nbgrader": {
          "checksum": "13ab8e8184a5ce432629a168358998e9",
          "grade": false,
          "grade_id": "cell-ac839becba0a561a",
          "locked": true,
          "schema_version": 1,
          "solution": false
        },
        "id": "EWRyTSx9bOsj"
      },
      "source": [
        "We first disregard the problem of cooking (or compiling) time, and ask about the order in which we should be doing the tasks.  We want to create a _Scheduler_ object, that can tell us what to do at the same time.  What operations should this object support? \n",
        "\n",
        "* **add_task:** we should be able to add a task, along with the task dependencies. \n",
        "* **reset:** indicating that we are about to run the sequences of tasks again.\n",
        "* **available_tasks:** this property should return the set of things that we can do in parallel. \n",
        "* **mark_completed:** used to notify the scheduler that we have completed a task.  This should return the set of new tasks that we can do due to this task being completed; we can do these tasks in parallel alongside with the others that we are already doing. \n",
        "* **all_done:** returns True/False according to whether we have completed all tasks. \n",
        "\n",
        "Choosing these operations is perhaps the most important step in the design of the scheduler.  The operations need to have a simple, clear definition, and be useful in a concrete implementation of the service which will run the tasks.  Of the above operations, they are all uncontroversial, except for the choice of behavior of _completed_.  In theory, there is no need for _completed_ to return the set of _new_ tasks that can now be undertaken.  If one remembers the set of tasks $T_1$ one can a do before a task $t \\in T_1$ is completed, and marks $t$ as completed, one can simply ask the scheduler for the set of tasks $T_2$ that can now be done, and add those in $T_{21t} = T_2 \\setminus (\\{t\\} \\cup T_1)$ for execution.  However, we guess (as we have not yet written the task execution engine) that being told this set of tasks directly will simplify the design of the task execution engine. "
      ]
    },
    {
      "cell_type": "markdown",
      "metadata": {
        "deletable": false,
        "editable": false,
        "nbgrader": {
          "checksum": "79aecd3e08b0a5afe9f42889882e0bda",
          "grade": false,
          "grade_id": "cell-307dbeebce53643f",
          "locked": true,
          "schema_version": 1,
          "solution": false
        },
        "id": "GkWDbANIbOsj"
      },
      "source": [
        "Our scheduler class will be implemented in similar fashion to our graph class, with tasks corresponding to graph vertices, and dependencies represented as edges.\n",
        "The difference is that here, given a vertex (that is, a task) $v$, it will be useful to be able to access both:\n",
        "\n",
        "* the _predecessors_ of $v$, that is, the tasks $u$ that are declared as prerequisites of $v$, and \n",
        "* the _successors_ of $v$, that is, the tasks $u$ such that $v$ was declared as a prerequisite for $u$. \n",
        "\n",
        "When we add a task, we would have to initialize its set of successors and predecessors to empty.  This is somewhat tedious, and so we resort to a defaultdict, which is a special type of dictionary such that, if the mapping for a key has not been defined, it returns a default value; in our case, an empty set.  [You can read more about defaultdict and related types here](https://docs.python.org/3.7/library/collections.html#collections.defaultdict). \n",
        "\n",
        "Our first implementation of the class is as follows.  We let you complete the `available_tasks` and `mark_completed` methods. \n"
      ]
    },
    {
      "cell_type": "code",
      "metadata": {
        "deletable": false,
        "editable": false,
        "nbgrader": {
          "checksum": "a3122da716c36329d70b6398881d9f6c",
          "grade": false,
          "grade_id": "cell-c1f62e6e5511e278",
          "locked": true,
          "schema_version": 1,
          "solution": false
        },
        "id": "G_VkqU_fbOsj"
      },
      "source": [
        "from collections import defaultdict\n",
        "import networkx as nx # Library for displaying graphs.\n",
        "import matplotlib.pyplot as plt\n",
        "\n",
        "class DependencyScheduler(object):\n",
        "\n",
        "    def __init__(self):\n",
        "        self.tasks = set()\n",
        "        # The successors of a task are the tasks that depend on it, and can\n",
        "        # only be done once the task is completed.\n",
        "        self.successors = defaultdict(set)\n",
        "        # The predecessors of a task have to be done before the task.\n",
        "        self.predecessors = defaultdict(set)\n",
        "        self.completed_tasks = set() # completed tasks\n",
        "\n",
        "    def add_task(self, t, dependencies):\n",
        "        \"\"\"Adds a task t with given dependencies.\"\"\"\n",
        "        # Makes sure we know about all tasks mentioned.\n",
        "        assert t not in self.tasks or len(self.predecessors[t]) == 0, \"The task was already present.\"\n",
        "        self.tasks.add(t)\n",
        "        self.tasks.update(dependencies)\n",
        "        # The predecessors are the tasks that need to be done before.\n",
        "        self.predecessors[t] = set(dependencies)\n",
        "        # The new task is a successor of its dependencies.\n",
        "        for u in dependencies:\n",
        "            self.successors[u].add(t)\n",
        "\n",
        "    def reset(self):\n",
        "        self.completed_tasks = set()\n",
        "\n",
        "    @property\n",
        "    def done(self):\n",
        "        return self.completed_tasks == self.tasks\n",
        "\n",
        "\n",
        "    def show(self):\n",
        "        \"\"\"We use the nx graph to display the graph.\"\"\"\n",
        "        g = nx.DiGraph()\n",
        "        g.add_nodes_from(self.tasks)\n",
        "        g.add_edges_from([(u, v) for u in self.tasks for v in self.successors[u]])\n",
        "        node_colors = ''.join([('g' if v in self.completed_tasks else 'r')\n",
        "                           for v in self.tasks])\n",
        "        nx.draw(g, with_labels=True, node_color=node_colors)\n",
        "        plt.show()\n",
        "\n",
        "    @property\n",
        "    def uncompleted(self):\n",
        "        \"\"\"Returns the tasks that have not been completed.\n",
        "        This is a property, so you can say scheduler.uncompleted rather than\n",
        "        scheduler.uncompleted()\"\"\"\n",
        "        return self.tasks - self.completed_tasks\n",
        "\n",
        "    def _check(self):\n",
        "        \"\"\"We check that if t is a successor of u, then u is a predecessor\n",
        "        of t.\"\"\"\n",
        "        for u in self.tasks:\n",
        "            for t in self.successors[u]:\n",
        "                assert u in self.predecessors[t]\n"
      ],
      "execution_count": null,
      "outputs": []
    },
    {
      "cell_type": "markdown",
      "metadata": {
        "deletable": false,
        "editable": false,
        "nbgrader": {
          "checksum": "f7194367628d4362f83e04121a68a6e4",
          "grade": false,
          "grade_id": "cell-1d75cf1333aa8c76",
          "locked": true,
          "schema_version": 1,
          "solution": false
        },
        "id": "n2ISRSsbbOsj"
      },
      "source": [
        "## Question 1: implement `available_tasks` and `mark_completed`. "
      ]
    },
    {
      "cell_type": "code",
      "metadata": {
        "deletable": false,
        "nbgrader": {
          "checksum": "f830262ac9c7f13eb8f07e85e0e1ac11",
          "grade": false,
          "grade_id": "cell-5c9e5f503f616888",
          "locked": false,
          "schema_version": 1,
          "solution": true
        },
        "id": "2VIxQZRqbOsj"
      },
      "source": [
        "### Implementation of `available_tasks` and `mark_completed`.\n",
        "\n",
        "def scheduler_available_tasks(self):\n",
        "    \"\"\"Returns the set of tasks that can be done in parallel.\n",
        "    A task can be done if all its predecessors have been completed.\n",
        "    And of course, we don't return any task that has already been\n",
        "    completed.\"\"\"\n",
        "    # YOUR CODE HERE\n",
        "    x = set()\n",
        "    for i in self.tasks:\n",
        "        if i in self.completed_tasks:\n",
        "            pass\n",
        "        elif self.predecessors[i] == set() or self.predecessors[i].intersection(self.completed_tasks) == self.predecessors[i]:\n",
        "            x.add(i)\n",
        "    return x\n",
        "    \"\"\"\n",
        "check what tasks have no predecessors or have set() as predecessors\n",
        "check if predecessors are completed\n",
        "return a set of all tasks that have all their predessesors in completed\n",
        "    \"\"\"\n",
        "    \n",
        "\n",
        "\n",
        "def scheduler_mark_completed(self, t):\n",
        "    \"\"\"Marks the task t as completed, and returns the additional\n",
        "    set of tasks that can be done (and that could not be\n",
        "    previously done) once t is completed.\"\"\"\n",
        "    # YOUR CODE HERE\n",
        "    x = scheduler_available_tasks(self)\n",
        "    self.completed_tasks.add(t)\n",
        "    return scheduler_available_tasks(self).difference(x)\n",
        "\n",
        "\"\"\"\n",
        "put t in self.completed\n",
        "check sucessors of t and check if all thier predecessors are completed\n",
        "return a list of all sucessors of t and return ones that have their predecessors available\n",
        "\"\"\"\n",
        "\n",
        "DependencyScheduler.available_tasks = property(scheduler_available_tasks)\n",
        "DependencyScheduler.mark_completed = scheduler_mark_completed\n"
      ],
      "execution_count": null,
      "outputs": []
    },
    {
      "cell_type": "code",
      "metadata": {
        "deletable": false,
        "nbgrader": {
          "checksum": "9cbfd3fceef4fc700ee6fd8765c94e66",
          "grade": false,
          "grade_id": "cell-ab6c2cd521650cd4",
          "locked": false,
          "schema_version": 1,
          "solution": true
        },
        "id": "VYjM9RQ0bOsj"
      },
      "source": [
        "# Here is a place where you can test your code. \n",
        "# YOUR CODE HERE"
      ],
      "execution_count": null,
      "outputs": []
    },
    {
      "cell_type": "markdown",
      "metadata": {
        "deletable": false,
        "editable": false,
        "nbgrader": {
          "checksum": "9abcbb7a57e188e7f19741fdef160c7f",
          "grade": false,
          "grade_id": "cell-3e19369eeb9a643d",
          "locked": true,
          "schema_version": 1,
          "solution": false
        },
        "id": "qHP9mZYtbOsj"
      },
      "source": [
        "Let us check if this works."
      ]
    },
    {
      "cell_type": "code",
      "metadata": {
        "deletable": false,
        "editable": false,
        "nbgrader": {
          "checksum": "34c28ee0d4c755735562b962526341d2",
          "grade": false,
          "grade_id": "cell-92b59a47fe7f0336",
          "locked": true,
          "schema_version": 1,
          "solution": false
        },
        "id": "CSDsWQFBbOsk",
        "colab": {
          "base_uri": "https://localhost:8080/"
        },
        "outputId": "10f031e5-3607-4582-9a8b-f69483c58550"
      },
      "source": [
        "# Let us ensure that nose is installed.\n",
        "try:\n",
        "    from nose.tools import assert_equal, assert_true\n",
        "    from nose.tools import assert_false, assert_almost_equal\n",
        "except:\n",
        "    !pip install nose\n",
        "    from nose.tools import assert_equal, assert_true\n",
        "    from nose.tools import assert_false, assert_almost_equal\n"
      ],
      "execution_count": null,
      "outputs": [
        {
          "output_type": "stream",
          "text": [
            "Collecting nose\n",
            "\u001b[?25l  Downloading https://files.pythonhosted.org/packages/15/d8/dd071918c040f50fa1cf80da16423af51ff8ce4a0f2399b7bf8de45ac3d9/nose-1.3.7-py3-none-any.whl (154kB)\n",
            "\r\u001b[K     |██▏                             | 10kB 16.4MB/s eta 0:00:01\r\u001b[K     |████▎                           | 20kB 10.9MB/s eta 0:00:01\r\u001b[K     |██████▍                         | 30kB 2.5MB/s eta 0:00:01\r\u001b[K     |████████▌                       | 40kB 3.3MB/s eta 0:00:01\r\u001b[K     |██████████▋                     | 51kB 4.0MB/s eta 0:00:01\r\u001b[K     |████████████▊                   | 61kB 4.7MB/s eta 0:00:01\r\u001b[K     |██████████████▉                 | 71kB 5.0MB/s eta 0:00:01\r\u001b[K     |█████████████████               | 81kB 5.1MB/s eta 0:00:01\r\u001b[K     |███████████████████             | 92kB 3.7MB/s eta 0:00:01\r\u001b[K     |█████████████████████▏          | 102kB 4.1MB/s eta 0:00:01\r\u001b[K     |███████████████████████▎        | 112kB 4.1MB/s eta 0:00:01\r\u001b[K     |█████████████████████████▍      | 122kB 4.1MB/s eta 0:00:01\r\u001b[K     |███████████████████████████▌    | 133kB 4.1MB/s eta 0:00:01\r\u001b[K     |█████████████████████████████▋  | 143kB 4.1MB/s eta 0:00:01\r\u001b[K     |███████████████████████████████▊| 153kB 4.1MB/s eta 0:00:01\r\u001b[K     |████████████████████████████████| 163kB 4.1MB/s \n",
            "\u001b[?25hInstalling collected packages: nose\n",
            "Successfully installed nose-1.3.7\n"
          ],
          "name": "stdout"
        }
      ]
    },
    {
      "cell_type": "code",
      "metadata": {
        "deletable": false,
        "editable": false,
        "nbgrader": {
          "checksum": "af201e981d4b861bf954b7e2384b3e9a",
          "grade": false,
          "grade_id": "cell-d9857dde3e277260",
          "locked": true,
          "schema_version": 1,
          "solution": false
        },
        "id": "G8q8YNGEbOsk",
        "colab": {
          "base_uri": "https://localhost:8080/",
          "height": 356
        },
        "outputId": "9f1ce8c4-dde2-43fd-b485-9542f8340933"
      },
      "source": [
        "from nose.tools import assert_true, assert_false, assert_equal\n",
        "\n",
        "s = DependencyScheduler()\n",
        "s.add_task('a', ['b', 'c'])\n",
        "s.add_task('b', ['c', 'e'])\n",
        "s._check()\n",
        "s.show()\n"
      ],
      "execution_count": null,
      "outputs": [
        {
          "output_type": "stream",
          "text": [
            "/usr/local/lib/python3.6/dist-packages/networkx/drawing/nx_pylab.py:478: MatplotlibDeprecationWarning: Using a string of single character colors as a color sequence is deprecated. Use an explicit list instead.\n",
            "  label=label,\n"
          ],
          "name": "stderr"
        },
        {
          "output_type": "display_data",
          "data": {
            "image/png": "[encoded data removed]",
            "text/plain": [
              "<Figure size 432x288 with 1 Axes>"
            ]
          },
          "metadata": {
            "tags": []
          }
        }
      ]
    },
    {
      "cell_type": "markdown",
      "metadata": {
        "deletable": false,
        "editable": false,
        "nbgrader": {
          "checksum": "b6d6104b2ca8bd21eb6fc98c96471d59",
          "grade": false,
          "grade_id": "cell-236e1fcb5f373d17",
          "locked": true,
          "schema_version": 1,
          "solution": false
        },
        "id": "-eG2cQEubOsk"
      },
      "source": [
        "We note that in the above drawing, the edges denote temporal succession, that is, an edge from $c$ to $a$ means that $c$ must happen before $a$. \n",
        "Let us execute the schedule manually."
      ]
    },
    {
      "cell_type": "markdown",
      "metadata": {
        "deletable": false,
        "editable": false,
        "nbgrader": {
          "checksum": "ff1dbebea8f5468f341e70ee112d2541",
          "grade": false,
          "grade_id": "cell-a448f628a33f1655",
          "locked": true,
          "schema_version": 1,
          "solution": false
        },
        "id": "Lrxyn1eIbOsk"
      },
      "source": [
        "Here are some tests for `available_tasks` and `mark_completed`. "
      ]
    },
    {
      "cell_type": "code",
      "metadata": {
        "deletable": false,
        "editable": false,
        "nbgrader": {
          "checksum": "87f4aef1da9401c8b1e14ea98c65e07b",
          "grade": true,
          "grade_id": "cell-97a947c37868d065",
          "locked": true,
          "points": 5,
          "schema_version": 1,
          "solution": false
        },
        "id": "9ag7iFhWbOsk"
      },
      "source": [
        "### Simple tests. 5 points. \n",
        "\n",
        "s = DependencyScheduler()\n",
        "s.add_task('a', [])\n",
        "assert_equal(s.available_tasks, {'a'})\n",
        "\n"
      ],
      "execution_count": null,
      "outputs": []
    },
    {
      "cell_type": "code",
      "metadata": {
        "deletable": false,
        "editable": false,
        "nbgrader": {
          "checksum": "1c260d93e494b94353ee43c9986a912b",
          "grade": true,
          "grade_id": "cell-e63cebb9c5161e17",
          "locked": true,
          "points": 10,
          "schema_version": 1,
          "solution": false
        },
        "id": "ZsKUpDGgbOsk"
      },
      "source": [
        "### Slightly more complicated. 10 points. \n",
        "\n",
        "s = DependencyScheduler()\n",
        "s.add_task('a', ['b', 'c'])\n",
        "s.add_task('b', ['c', 'e'])\n",
        "assert_equal(s.available_tasks, {'e', 'c'})\n",
        "\n",
        "s = DependencyScheduler()\n",
        "s.add_task('a', ['b'])\n",
        "s.add_task('b', ['a'])\n",
        "assert_equal(s.available_tasks, set())\n",
        "\n"
      ],
      "execution_count": null,
      "outputs": []
    },
    {
      "cell_type": "code",
      "metadata": {
        "deletable": false,
        "editable": false,
        "nbgrader": {
          "checksum": "3d976d40ecb3e0aea04ab706c381b6a0",
          "grade": true,
          "grade_id": "cell-fdc5d30f849014af",
          "locked": true,
          "points": 5,
          "schema_version": 1,
          "solution": false
        },
        "id": "WMKtUPuLbOsk"
      },
      "source": [
        "### Now, let's test `mark_completed`.  Simple tests first. 5 points. \n",
        "\n",
        "s = DependencyScheduler()\n",
        "s.add_task('a', [])\n",
        "assert_equal(s.available_tasks, {'a'})\n",
        "r = s.mark_completed('a')\n",
        "assert_equal(r, set())\n",
        "\n",
        "s = DependencyScheduler()\n",
        "s.add_task('a', ['b'])\n",
        "assert_equal(s.available_tasks, {'b'})\n",
        "r = s.mark_completed('b')\n",
        "assert_equal(r, {'a'})\n",
        "\n"
      ],
      "execution_count": null,
      "outputs": []
    },
    {
      "cell_type": "code",
      "metadata": {
        "deletable": false,
        "editable": false,
        "nbgrader": {
          "checksum": "bc1219453bf2f8e01785141255fd7f1d",
          "grade": true,
          "grade_id": "cell-71c82e71e3d5c769",
          "locked": true,
          "points": 10,
          "schema_version": 1,
          "solution": false
        },
        "id": "_5ZS8aNKbOsk"
      },
      "source": [
        "### Slightly more complicated. 10 points. \n",
        "\n",
        "s = DependencyScheduler()\n",
        "s.add_task('a', ['b', 'c'])\n",
        "assert_equal(s.available_tasks, {'b', 'c'})\n",
        "r = s.mark_completed('b')\n",
        "assert_equal(r, set())\n",
        "assert_equal(s.available_tasks, {'c'})\n",
        "r = s.mark_completed('c')\n",
        "assert_equal(r, {'a'})\n",
        "\n",
        "s = DependencyScheduler()\n",
        "s.add_task('a', ['b', 'c'])\n",
        "s.add_task('b', ['c', 'e'])\n",
        "s.add_task('c', [])\n",
        "assert_equal(s.available_tasks, {'c', 'e'})\n",
        "r = s.mark_completed('e')\n",
        "assert_equal(r, set())\n",
        "r = s.mark_completed('c')\n",
        "assert_equal(r, {'b'})\n",
        "r = s.mark_completed('b')\n",
        "assert_equal(r, {'a'})\n",
        "r = s.mark_completed('a')\n",
        "assert_equal(r, set())\n",
        "assert_equal(s.available_tasks, set())\n",
        "\n"
      ],
      "execution_count": null,
      "outputs": []
    },
    {
      "cell_type": "markdown",
      "metadata": {
        "deletable": false,
        "editable": false,
        "nbgrader": {
          "checksum": "c0e617b3ab44b02e965cd7181c719847",
          "grade": false,
          "grade_id": "cell-1fdbf05f74676a81",
          "locked": true,
          "schema_version": 1,
          "solution": false
        },
        "id": "xlTALWS2bOsk"
      },
      "source": [
        "## Executing the tasks\n",
        "\n",
        "Here is an execution engine for our tasks with dependencies."
      ]
    },
    {
      "cell_type": "code",
      "metadata": {
        "deletable": false,
        "editable": false,
        "nbgrader": {
          "checksum": "121aee66c911faf16ef686e9fcffa102",
          "grade": false,
          "grade_id": "cell-c285056bbc55c15",
          "locked": true,
          "schema_version": 1,
          "solution": false
        },
        "id": "3bfOgVvabOsk"
      },
      "source": [
        "import random\n",
        "\n",
        "def execute_schedule(s, show=False):\n",
        "    s.reset()\n",
        "    in_process = s.available_tasks\n",
        "    print(\"Starting by doing:\", in_process)\n",
        "    while len(in_process) > 0:\n",
        "        # Picks one random task to be the first to be completed.\n",
        "        t = random.choice(list(in_process))\n",
        "        print(\"Completed:\", t)\n",
        "        in_process = in_process - {t} | s.mark_completed(t)\n",
        "        print(\"Now doing:\", in_process)\n",
        "        if show:\n",
        "            s.show()\n",
        "    # Have we done all?\n",
        "    if not s.done:\n",
        "        print(\"Error, there are tasks that could not be completed:\", s.uncompleted)\n"
      ],
      "execution_count": null,
      "outputs": []
    },
    {
      "cell_type": "markdown",
      "metadata": {
        "deletable": false,
        "editable": false,
        "nbgrader": {
          "checksum": "0b89ce00f896cfb7dd641a00c2c61d86",
          "grade": false,
          "grade_id": "cell-5c41d5760a16bd50",
          "locked": true,
          "schema_version": 1,
          "solution": false
        },
        "id": "1sj2a71dbOsk"
      },
      "source": [
        "Let's try it on our old schedule:"
      ]
    },
    {
      "cell_type": "code",
      "metadata": {
        "deletable": false,
        "editable": false,
        "nbgrader": {
          "checksum": "438c73779c99e682ebebf7c068db85c2",
          "grade": false,
          "grade_id": "cell-47bed31601afff35",
          "locked": true,
          "schema_version": 1,
          "solution": false
        },
        "id": "E1Uaz24qbOsk",
        "colab": {
          "base_uri": "https://localhost:8080/",
          "height": 356
        },
        "outputId": "81b13a67-18b1-4fff-a8da-e0ab52a744d8"
      },
      "source": [
        "s = DependencyScheduler()\n",
        "s.add_task('a', ['b', 'c'])\n",
        "s.add_task('b', ['c', 'e'])\n",
        "s._check()\n",
        "s.show()\n"
      ],
      "execution_count": null,
      "outputs": [
        {
          "output_type": "stream",
          "text": [
            "/usr/local/lib/python3.6/dist-packages/networkx/drawing/nx_pylab.py:478: MatplotlibDeprecationWarning: Using a string of single character colors as a color sequence is deprecated. Use an explicit list instead.\n",
            "  label=label,\n"
          ],
          "name": "stderr"
        },
        {
          "output_type": "display_data",
          "data": {
            "image/png": "[encoded data removed]",
            "text/plain": [
              "<Figure size 432x288 with 1 Axes>"
            ]
          },
          "metadata": {
            "tags": []
          }
        }
      ]
    },
    {
      "cell_type": "code",
      "metadata": {
        "deletable": false,
        "editable": false,
        "nbgrader": {
          "checksum": "49402dc6b29c411541e4c9eb0d59eaa7",
          "grade": false,
          "grade_id": "cell-cb9ee8db2218be70",
          "locked": true,
          "schema_version": 1,
          "solution": false
        },
        "id": "gj5JZvgJbOsk",
        "colab": {
          "base_uri": "https://localhost:8080/",
          "height": 1000
        },
        "outputId": "eefa3ac0-df83-4fd7-d9bc-a51e8ea79266"
      },
      "source": [
        "execute_schedule(s, show=True)\n"
      ],
      "execution_count": null,
      "outputs": [
        {
          "output_type": "stream",
          "text": [
            "Starting by doing: {'e', 'c'}\n",
            "Completed: c\n",
            "Now doing: {'e'}\n"
          ],
          "name": "stdout"
        },
        {
          "output_type": "stream",
          "text": [
            "/usr/local/lib/python3.6/dist-packages/networkx/drawing/nx_pylab.py:478: MatplotlibDeprecationWarning: Using a string of single character colors as a color sequence is deprecated. Use an explicit list instead.\n",
            "  label=label,\n"
          ],
          "name": "stderr"
        },
        {
          "output_type": "display_data",
          "data": {
            "image/png": "[encoded data removed]",
            "text/plain": [
              "<Figure size 432x288 with 1 Axes>"
            ]
          },
          "metadata": {
            "tags": []
          }
        },
        {
          "output_type": "stream",
          "text": [
            "Completed: e\n",
            "Now doing: {'b'}\n"
          ],
          "name": "stdout"
        },
        {
          "output_type": "display_data",
          "data": {
            "image/png": "[encoded data removed]",
            "text/plain": [
              "<Figure size 432x288 with 1 Axes>"
            ]
          },
          "metadata": {
            "tags": []
          }
        },
        {
          "output_type": "stream",
          "text": [
            "Completed: b\n",
            "Now doing: {'a'}\n"
          ],
          "name": "stdout"
        },
        {
          "output_type": "display_data",
          "data": {
            "image/png": "[encoded data removed]",
            "text/plain": [
              "<Figure size 432x288 with 1 Axes>"
            ]
          },
          "metadata": {
            "tags": []
          }
        },
        {
          "output_type": "stream",
          "text": [
            "Completed: a\n",
            "Now doing: set()\n"
          ],
          "name": "stdout"
        },
        {
          "output_type": "display_data",
          "data": {
            "image/png": "[encoded data removed]",
            "text/plain": [
              "<Figure size 432x288 with 1 Axes>"
            ]
          },
          "metadata": {
            "tags": []
          }
        }
      ]
    },
    {
      "cell_type": "markdown",
      "metadata": {
        "deletable": false,
        "editable": false,
        "nbgrader": {
          "checksum": "a3c215f20358f8f865a4b0090cf010ab",
          "grade": false,
          "grade_id": "cell-9c9e6ce16186ae03",
          "locked": true,
          "schema_version": 1,
          "solution": false
        },
        "id": "eJysRuRobOsk"
      },
      "source": [
        "What happens if there is a loop? "
      ]
    },
    {
      "cell_type": "code",
      "metadata": {
        "deletable": false,
        "editable": false,
        "nbgrader": {
          "checksum": "1a72092331547b48af83b369cef694b7",
          "grade": false,
          "grade_id": "cell-2dc9924f19540ab3",
          "locked": true,
          "schema_version": 1,
          "solution": false
        },
        "id": "7XeSt_J9bOsk",
        "colab": {
          "base_uri": "https://localhost:8080/"
        },
        "outputId": "d9ebd1c7-940f-4a4f-f89a-3dea8f8fe22f"
      },
      "source": [
        "s = DependencyScheduler()\n",
        "s.add_task('a', ['b'])\n",
        "s.add_task('b', ['a'])\n",
        "s.add_task('c', ['a'])\n",
        "execute_schedule(s)\n"
      ],
      "execution_count": null,
      "outputs": [
        {
          "output_type": "stream",
          "text": [
            "Starting by doing: set()\n",
            "Error, there are tasks that could not be completed: {'b', 'a', 'c'}\n"
          ],
          "name": "stdout"
        }
      ]
    },
    {
      "cell_type": "markdown",
      "metadata": {
        "deletable": false,
        "editable": false,
        "nbgrader": {
          "checksum": "4b32a15d1debae4980463aa52d8c7d01",
          "grade": false,
          "grade_id": "cell-1d09ba345dc1de32",
          "locked": true,
          "schema_version": 1,
          "solution": false
        },
        "id": "WUUe07UKbOsk"
      },
      "source": [
        "Ok, this is reasonable!  Let us now encode our Carbonara pasta recipe. "
      ]
    },
    {
      "cell_type": "code",
      "metadata": {
        "deletable": false,
        "editable": false,
        "nbgrader": {
          "checksum": "a08bcaa837cddd038962a11f91fb8343",
          "grade": false,
          "grade_id": "cell-bc314c96d21a34c7",
          "locked": true,
          "schema_version": 1,
          "solution": false
        },
        "id": "mtvRkoC4bOsk",
        "colab": {
          "base_uri": "https://localhost:8080/",
          "height": 356
        },
        "outputId": "1c8405fe-1d65-4a9f-b9ca-dd28d13d6c14"
      },
      "source": [
        "carbonara = DependencyScheduler()\n",
        "\n",
        "# First, the part about cooking the pancetta.\n",
        "carbonara.add_task('dice onions', [])\n",
        "carbonara.add_task('dice pancetta', [])\n",
        "carbonara.add_task('put oil and butter in pan', [])\n",
        "carbonara.add_task('put pancetta in pan', ['dice pancetta'])\n",
        "carbonara.add_task('put onions in pan', ['dice onions'])\n",
        "carbonara.add_task('cook pancetta', ['put oil and butter in pan',\n",
        "                                     'put pancetta in pan',\n",
        "                                     'put onions in pan'])\n",
        "\n",
        "# Second, the part about beating the eggs.\n",
        "carbonara.add_task('put eggs in bowl', [])\n",
        "carbonara.add_task('beat eggs', ['put eggs in bowl'])\n",
        "\n",
        "# Third, cooking the pasta.\n",
        "carbonara.add_task('fill pot with water', [])\n",
        "carbonara.add_task('bring pot of water to a boil', ['fill pot with water'])\n",
        "carbonara.add_task('add salt to water', ['bring pot of water to a boil'])\n",
        "carbonara.add_task('put pasta in water', ['bring pot of water to a boil',\n",
        "                                         'add salt to water'])\n",
        "carbonara.add_task('colander pasta', ['put pasta in water'])\n",
        "\n",
        "# And finally, we can put everything together.\n",
        "carbonara.add_task('serve', ['beat eggs', 'cook pancetta', 'colander pasta'])\n",
        "\n",
        "# Let's look at our schedule!\n",
        "carbonara.show()\n"
      ],
      "execution_count": null,
      "outputs": [
        {
          "output_type": "stream",
          "text": [
            "/usr/local/lib/python3.6/dist-packages/networkx/drawing/nx_pylab.py:478: MatplotlibDeprecationWarning: Using a string of single character colors as a color sequence is deprecated. Use an explicit list instead.\n",
            "  label=label,\n"
          ],
          "name": "stderr"
        },
        {
          "output_type": "display_data",
          "data": {
            "image/png": "[encoded data removed]",
            "text/plain": [
              "<Figure size 432x288 with 1 Axes>"
            ]
          },
          "metadata": {
            "tags": []
          }
        }
      ]
    },
    {
      "cell_type": "code",
      "metadata": {
        "deletable": false,
        "editable": false,
        "nbgrader": {
          "checksum": "b71b1bfa89a45be334e3eb7bb1ffe580",
          "grade": false,
          "grade_id": "cell-dde3ea491011fe74",
          "locked": true,
          "schema_version": 1,
          "solution": false
        },
        "id": "bEqgeRt4bOsk",
        "colab": {
          "base_uri": "https://localhost:8080/"
        },
        "outputId": "b5a92598-7d53-4d92-b93e-10c1f65072a4"
      },
      "source": [
        "# And let's finally prepare carbonara!\n",
        "execute_schedule(carbonara)\n"
      ],
      "execution_count": null,
      "outputs": [
        {
          "output_type": "stream",
          "text": [
            "Starting by doing: {'fill pot with water', 'dice onions', 'put oil and butter in pan', 'put eggs in bowl', 'dice pancetta'}\n",
            "Completed: fill pot with water\n",
            "Now doing: {'dice onions', 'put oil and butter in pan', 'bring pot of water to a boil', 'put eggs in bowl', 'dice pancetta'}\n",
            "Completed: bring pot of water to a boil\n",
            "Now doing: {'dice onions', 'put oil and butter in pan', 'put eggs in bowl', 'dice pancetta', 'add salt to water'}\n",
            "Completed: dice pancetta\n",
            "Now doing: {'dice onions', 'put oil and butter in pan', 'put pancetta in pan', 'put eggs in bowl', 'add salt to water'}\n",
            "Completed: add salt to water\n",
            "Now doing: {'dice onions', 'put oil and butter in pan', 'put pancetta in pan', 'put eggs in bowl', 'put pasta in water'}\n",
            "Completed: put eggs in bowl\n",
            "Now doing: {'dice onions', 'put oil and butter in pan', 'put pancetta in pan', 'put pasta in water', 'beat eggs'}\n",
            "Completed: put oil and butter in pan\n",
            "Now doing: {'put pasta in water', 'dice onions', 'beat eggs', 'put pancetta in pan'}\n",
            "Completed: put pasta in water\n",
            "Now doing: {'dice onions', 'beat eggs', 'put pancetta in pan', 'colander pasta'}\n",
            "Completed: colander pasta\n",
            "Now doing: {'dice onions', 'beat eggs', 'put pancetta in pan'}\n",
            "Completed: dice onions\n",
            "Now doing: {'put onions in pan', 'beat eggs', 'put pancetta in pan'}\n",
            "Completed: put onions in pan\n",
            "Now doing: {'beat eggs', 'put pancetta in pan'}\n",
            "Completed: beat eggs\n",
            "Now doing: {'put pancetta in pan'}\n",
            "Completed: put pancetta in pan\n",
            "Now doing: {'cook pancetta'}\n",
            "Completed: cook pancetta\n",
            "Now doing: {'serve'}\n",
            "Completed: serve\n",
            "Now doing: set()\n"
          ],
          "name": "stdout"
        }
      ]
    },
    {
      "cell_type": "markdown",
      "metadata": {
        "deletable": false,
        "editable": false,
        "nbgrader": {
          "checksum": "7bade197fa4e480a09146b22ef8afb25",
          "grade": false,
          "grade_id": "cell-daa0327fa3f623ef",
          "locked": true,
          "schema_version": 1,
          "solution": false
        },
        "id": "a18fWYBubOsk"
      },
      "source": [
        "This is not necessarily the best order of actions to prepare pasta carbonara, but it definitely works as a schedule."
      ]
    },
    {
      "cell_type": "markdown",
      "metadata": {
        "deletable": false,
        "editable": false,
        "nbgrader": {
          "checksum": "32d632a86ab53799e90ac07e4bdbec37",
          "grade": false,
          "grade_id": "cell-62458aa5f6bd6db0",
          "locked": true,
          "schema_version": 1,
          "solution": false
        },
        "id": "9GAA9QjUbOsk"
      },
      "source": [
        "## Building a Better Execution Engine"
      ]
    },
    {
      "cell_type": "markdown",
      "metadata": {
        "deletable": false,
        "editable": false,
        "nbgrader": {
          "checksum": "1c62725f1ed690ccb49e8526dec0f1c8",
          "grade": false,
          "grade_id": "cell-68a98344892ae6e4",
          "locked": true,
          "schema_version": 1,
          "solution": false
        },
        "id": "e_v2G77VbOsk"
      },
      "source": [
        "Let us build a better execution engine for our schedules.  Right now, we have a function:"
      ]
    },
    {
      "cell_type": "code",
      "metadata": {
        "deletable": false,
        "editable": false,
        "nbgrader": {
          "checksum": "acea01d4083f8b34a8913c0d277fa2af",
          "grade": false,
          "grade_id": "cell-ee813cfbdf456ac5",
          "locked": true,
          "schema_version": 1,
          "solution": false
        },
        "id": "YiImsO9ObOsk"
      },
      "source": [
        "def execute_schedule(s, show=False):\n",
        "    s.reset()\n",
        "    in_process = s.available_tasks\n",
        "    print(\"Starting by doing:\", in_process)\n",
        "    while len(in_process) > 0:\n",
        "        # Picks one random task to be the first to be completed.\n",
        "        t = random.choice(list(in_process))\n",
        "        print(\"Completed:\", t)\n",
        "        in_process = in_process - {t} | s.mark_completed(t)\n",
        "        print(\"Now doing:\", in_process)\n",
        "        if show:\n",
        "            s.show()\n",
        "    # Have we done all?\n",
        "    if not s.done:\n",
        "        print(\"Error, there are tasks that could not be completed:\", s.uncompleted)\n"
      ],
      "execution_count": null,
      "outputs": []
    },
    {
      "cell_type": "markdown",
      "metadata": {
        "deletable": false,
        "editable": false,
        "nbgrader": {
          "checksum": "6c135f48b406d3d04b197904ef911090",
          "grade": false,
          "grade_id": "cell-3c03e5954721ecbc",
          "locked": true,
          "schema_version": 1,
          "solution": false
        },
        "id": "ra4oHEeybOsk"
      },
      "source": [
        "We want to wrap these methods into a class, RunSchedule.  This will allow us more flexibility in executing a schedule, as we will be able to specify parameters that guide the execution policy, interrupt and resume the execution, and so on.  \n",
        "An object of class RunSchedule is initialized with a DependencyScheduler.  It then has the following methods: \n",
        "\n",
        "* **reset:** mark all tasks as not completed. \n",
        "* **step:** perform one step in the schedule, completing a single task.\n",
        "* **run:** performs all steps in the schedule, until completion. \n",
        "* **done:** indicates that all tasks have been done.\n",
        "\n",
        "What should these methods return?  _step_ will return the task executed, while _run_ will return the whole list of tasks, in the order in which they were done. "
      ]
    },
    {
      "cell_type": "code",
      "metadata": {
        "deletable": false,
        "editable": false,
        "nbgrader": {
          "checksum": "baeffbbc770c2247d1b401f184c7aaf4",
          "grade": false,
          "grade_id": "cell-419c455e1fa49a35",
          "locked": true,
          "schema_version": 1,
          "solution": false
        },
        "id": "0G0G-rzZbOsk"
      },
      "source": [
        "class RunSchedule(object):\n",
        "\n",
        "    def __init__(self, scheduler):\n",
        "        self.scheduler = scheduler\n",
        "        self.in_process = None # Indicating, we don't know yet.\n",
        "\n",
        "    def reset(self):\n",
        "        self.scheduler.reset()\n",
        "        self.in_process = None\n",
        "\n",
        "    def step(self):\n",
        "        \"\"\"Performs a step, returning the task, if any, or None,\n",
        "        if there is no step that can be done.\"\"\"\n",
        "        # If we don't know what steps are in process, we get them.\n",
        "        if self.in_process is None:\n",
        "            self.in_process = self.scheduler.available_tasks\n",
        "        if len(self.in_process) == 0:\n",
        "            return None\n",
        "        t = random.choice(list(self.in_process))\n",
        "        self.in_process = self.in_process - {t} | self.scheduler.mark_completed(t)\n",
        "        return t\n",
        "\n",
        "    @property\n",
        "    def done(self):\n",
        "        return self.scheduler.done\n",
        "\n",
        "    def run(self):\n",
        "        \"\"\"Runs the scheduler from the current configuration to completion.\n",
        "        You must call reset() first, if you want to run the whole schedule.\"\"\"\n",
        "        tasks = []\n",
        "        while not self.done:\n",
        "            t = self.step()\n",
        "            if t is not None:\n",
        "                tasks.append(t)\n",
        "        return tasks\n"
      ],
      "execution_count": null,
      "outputs": []
    },
    {
      "cell_type": "markdown",
      "metadata": {
        "deletable": false,
        "editable": false,
        "nbgrader": {
          "checksum": "d9a54aa7a503239bf81f2463cb74319f",
          "grade": false,
          "grade_id": "cell-50337ca62797b2cc",
          "locked": true,
          "schema_version": 1,
          "solution": false
        },
        "id": "2a1kmcXJbOsk"
      },
      "source": [
        "We can run our pasta carbonara with this RunSchedule class:"
      ]
    },
    {
      "cell_type": "code",
      "metadata": {
        "deletable": false,
        "editable": false,
        "nbgrader": {
          "checksum": "7cd3e1103d79f0bd0bac7e4e02f77301",
          "grade": false,
          "grade_id": "cell-a0b0e7d1e74b4d33",
          "locked": true,
          "schema_version": 1,
          "solution": false
        },
        "id": "0O5_TxOEbOsk",
        "colab": {
          "base_uri": "https://localhost:8080/"
        },
        "outputId": "deb4c3e7-ff77-4d2f-b509-3dcd0efe670c"
      },
      "source": [
        "runner = RunSchedule(carbonara)\n",
        "runner.reset()\n",
        "runner.run()\n"
      ],
      "execution_count": null,
      "outputs": [
        {
          "output_type": "execute_result",
          "data": {
            "text/plain": [
              "['put oil and butter in pan',\n",
              " 'fill pot with water',\n",
              " 'dice onions',\n",
              " 'put onions in pan',\n",
              " 'bring pot of water to a boil',\n",
              " 'add salt to water',\n",
              " 'put pasta in water',\n",
              " 'dice pancetta',\n",
              " 'colander pasta',\n",
              " 'put pancetta in pan',\n",
              " 'cook pancetta',\n",
              " 'put eggs in bowl',\n",
              " 'beat eggs',\n",
              " 'serve']"
            ]
          },
          "metadata": {
            "tags": []
          },
          "execution_count": 19
        }
      ]
    },
    {
      "cell_type": "markdown",
      "metadata": {
        "deletable": false,
        "editable": false,
        "nbgrader": {
          "checksum": "1bc2fd9f9c1b7e56a64bb85bc56df26e",
          "grade": false,
          "grade_id": "cell-d160f03528fef7eb",
          "locked": true,
          "schema_version": 1,
          "solution": false
        },
        "id": "kVBUmid7bOsk"
      },
      "source": [
        "Let us pause for a moment and ask: did we really need to create a new class? Could we not have done the above in the scheduler class? \n",
        "\n",
        "This is debatable.  The idea in keeping the two classes separate is clarity of goals: \n",
        "\n",
        "* The scheduler is concerned with what _can_ be done next. \n",
        "* The runner is concerned with any practical constraint to the execution, and with the choice of _what_, among the possible, is actually done. \n",
        "\n",
        "We will have occasion below to rely on this division of concerns."
      ]
    },
    {
      "cell_type": "markdown",
      "metadata": {
        "deletable": false,
        "editable": false,
        "nbgrader": {
          "checksum": "4bdadeaf1a6dfab0650df33f9282634c",
          "grade": false,
          "grade_id": "cell-ab56ae966c12c39d",
          "locked": true,
          "schema_version": 1,
          "solution": false
        },
        "id": "fOHN-lswbOsk"
      },
      "source": [
        "### Code changes and rotten eggs"
      ]
    },
    {
      "cell_type": "markdown",
      "metadata": {
        "deletable": false,
        "editable": false,
        "nbgrader": {
          "checksum": "59bf5e852f155980256b6ef310bee302",
          "grade": false,
          "grade_id": "cell-10062b48fd612300",
          "locked": true,
          "schema_version": 1,
          "solution": false
        },
        "id": "QKM87HU4bOsk"
      },
      "source": [
        "#### Code changes\n",
        "\n",
        "Imagine that you need to compile three programs, $a$, $c$, and then link together the results into $f.out$.   Once this is done, you compile $d$ and $e$, and link into $g.out$.  As the last step, you link the two libraries $g.out$ and $f.out$ together, and produce $h$. You do it once.  Great.  But now you realize that you need to change $b$.  Do you have to start from scratch? \n",
        "\n",
        "You may think, who cares, it's the CPU doing the work, not me.  Fair enough, but there are some large systems that take minutes, dozen of minutes, to compile.  If you are compiling the linux kernel on a low power CPU, it might take hours.  Surely you don't want to redo everything from scratch!  \n",
        "\n",
        "So imagine you have the tasks in an intermediate state, with some being completed (possibly all of them), and some not.  You can now mark one of the tasks as incomplete, to signal you need to do it again.  What is the set of tasks that as a consequence should also be marked incomplete? \n",
        "If you have two tasks $x$ and $y$, with $y$ being a successor to $x$, if $x$ is marked as \"undone\" as it needs to be redone, then also $y$ will need to be redone, as it might use the results of $x$.\n",
        "\n",
        "To implement this, we will perform two modifications.  First, we will endow our scheduler with a _redo_ method, which marks a task and all its successors to be redone -- that is, it _unmarks_ them as done.  We let you implement this; you have already seen how to compute reachability in the graph chapter. \n"
      ]
    },
    {
      "cell_type": "markdown",
      "metadata": {
        "deletable": false,
        "editable": false,
        "nbgrader": {
          "checksum": "f4f62ac8c425709abda425a8ad8b639b",
          "grade": false,
          "grade_id": "cell-9f80ab8aa77e6100",
          "locked": true,
          "schema_version": 1,
          "solution": false
        },
        "id": "2FXKuPIzbOsk"
      },
      "source": [
        "## Question 2: redo for code"
      ]
    },
    {
      "cell_type": "code",
      "metadata": {
        "deletable": false,
        "nbgrader": {
          "checksum": "dda6cc12b8a5445c115239cfadc9289d",
          "grade": false,
          "grade_id": "cell-80715adbd3dac83e",
          "locked": false,
          "schema_version": 1,
          "solution": true
        },
        "id": "bWN0wpNIbOsk"
      },
      "source": [
        "### Implementation of `redo`\n",
        "\n",
        "def dependency_scheduler_redo(self, t):\n",
        "    \"\"\"Mark the task t, and all its successors, as undone.\n",
        "    Returns the set of successor tasks of t, with t included.\"\"\"\n",
        "    # YOUR CODE HERE\n",
        "    x = set()\n",
        "    vopen = {t}\n",
        "    vclosed = set()\n",
        "    while len(vopen) > 0:\n",
        "        u = vopen.pop()\n",
        "        vclosed.add(u)\n",
        "        vopen.update(self.successors[u] - vclosed)\n",
        "    for i in vclosed:\n",
        "        if i in self.completed_tasks:\n",
        "            self.completed_tasks.remove(i)\n",
        "            x.add(i)\n",
        "    return x\n",
        "\n",
        "\n",
        "DependencyScheduler.redo = dependency_scheduler_redo\n"
      ],
      "execution_count": null,
      "outputs": []
    },
    {
      "cell_type": "code",
      "metadata": {
        "deletable": false,
        "nbgrader": {
          "checksum": "5585de9f76f2078b994256defd546daa",
          "grade": false,
          "grade_id": "cell-ffbf3c1f4fa3bdd2",
          "locked": false,
          "schema_version": 1,
          "solution": true
        },
        "id": "rPnQcidqbOsk",
        "colab": {
          "base_uri": "https://localhost:8080/"
        },
        "outputId": "6c70b042-8b08-4502-cc41-3f28988c9fd2"
      },
      "source": [
        "# Here is a place where you can test your code. \n",
        "\n",
        "# YOUR CODE HERE\n",
        "# Additional test\n",
        "s = DependencyScheduler()\n",
        "s.add_task('a', [])\n",
        "s.add_task('b', ['a'])\n",
        "s.add_task('c', ['a'])\n",
        "s.add_task('d', ['b', 'c'])\n",
        "s.add_task('e', ['a', 'd'])\n",
        "s.mark_completed('a')\n",
        "s.mark_completed('b')\n",
        "s.mark_completed('c')\n",
        "s.mark_completed('d')\n",
        "\n",
        "s.redo('a')\n",
        "\n",
        "assert_equal(s.available_tasks, {'a'})\n",
        "assert_equal(s.completed_tasks, set())\n",
        "\n",
        "\n",
        "s = DependencyScheduler()\n",
        "s.add_task('b', ['a'])\n",
        "s.add_task('c', ['a'])\n",
        "s.add_task('d', ['b', 'c'])\n",
        "s.add_task('e', ['a', 'd'])\n",
        "s.mark_completed('a')\n",
        "s.mark_completed('b')\n",
        "s.mark_completed('c')\n",
        "s.mark_completed('d')\n",
        "s.redo('a')\n",
        "\n",
        "assert_equal(s.available_tasks, {'a'})\n",
        "assert_equal(s.completed_tasks, set())\n",
        "\n",
        "s = DependencyScheduler()\n",
        "s.add_task('a', [])\n",
        "s.add_task('b', ['a'])\n",
        "s.add_task('c', ['a'])\n",
        "s.add_task('d', ['b', 'c'])\n",
        "s.add_task('e', ['a', 'd'])\n",
        "s.mark_completed('a')\n",
        "s.mark_completed('b')\n",
        "s.mark_completed('c')\n",
        "assert_equal(s.available_tasks, {'d'})\n",
        "s.mark_completed('d')\n",
        "s.mark_completed('e')\n",
        "s.redo('e')\n",
        "assert_equal(s.available_tasks, {'e'})\n",
        "\n",
        "\n",
        "\n",
        "s = DependencyScheduler()\n",
        "s.add_task('a', [])\n",
        "s.add_task('b', ['a'])\n",
        "s.add_task('c', ['b'])\n",
        "s.mark_completed('a')\n",
        "assert_equal(s.available_tasks, {'b'})"
      ],
      "execution_count": null,
      "outputs": [
        {
          "output_type": "stream",
          "text": [
            "set()\n"
          ],
          "name": "stdout"
        }
      ]
    },
    {
      "cell_type": "markdown",
      "metadata": {
        "deletable": false,
        "editable": false,
        "nbgrader": {
          "checksum": "65022df11bcbd0b2cfaf5c4408754571",
          "grade": false,
          "grade_id": "cell-5b62e886f0ae12ea",
          "locked": true,
          "schema_version": 1,
          "solution": false
        },
        "id": "Xn_joBzHbOsk"
      },
      "source": [
        "Let us test the implementation."
      ]
    },
    {
      "cell_type": "code",
      "metadata": {
        "deletable": false,
        "editable": false,
        "nbgrader": {
          "checksum": "53c69adb193594c1059c599021d9205b",
          "grade": true,
          "grade_id": "cell-8357360c4a918edb",
          "locked": true,
          "points": 10,
          "schema_version": 1,
          "solution": false
        },
        "id": "9HQtgiqnbOsk"
      },
      "source": [
        "### Tests for `redo` for code. 10 points. \n",
        "\n",
        "s = DependencyScheduler()\n",
        "s.add_task('a', [])\n",
        "s.add_task('b', ['a'])\n",
        "s.add_task('c', ['a'])\n",
        "s.add_task('d', ['b', 'c'])\n",
        "s.add_task('e', ['a', 'd'])\n",
        "\n",
        "s.mark_completed('a')\n",
        "s.mark_completed('b')\n",
        "s.mark_completed('c')\n",
        "assert_equal(s.available_tasks, {'d'})\n",
        "s.redo('b')\n",
        "assert_equal(s.available_tasks, {'b'})\n"
      ],
      "execution_count": null,
      "outputs": []
    },
    {
      "cell_type": "markdown",
      "metadata": {
        "deletable": false,
        "editable": false,
        "nbgrader": {
          "checksum": "f8f408a0c22b5baae9ebc0394d3e18f7",
          "grade": false,
          "grade_id": "cell-dc8e08c747c3f414",
          "locked": true,
          "schema_version": 1,
          "solution": false
        },
        "id": "w3rZrn3BbOsk"
      },
      "source": [
        "Next, we implement a runner that has an additional operation _redo(t)_ for a task t. "
      ]
    },
    {
      "cell_type": "code",
      "metadata": {
        "deletable": false,
        "editable": false,
        "nbgrader": {
          "checksum": "4ed044492ef70632de7970d20b137fb5",
          "grade": false,
          "grade_id": "cell-ef3550fd3be8ba89",
          "locked": true,
          "schema_version": 1,
          "solution": false
        },
        "id": "WhguuxNhbOsl"
      },
      "source": [
        "def run_schedule_redo(self, t):\n",
        "    \"\"\"Marks t as to be redone.\"\"\"\n",
        "    # We drop everything that was in progress.\n",
        "    # This also forces us to ask the scheduler for what to redo.\n",
        "    self.in_process = None\n",
        "    return self.scheduler.redo(t)\n",
        "\n",
        "RunSchedule.redo = run_schedule_redo\n"
      ],
      "execution_count": null,
      "outputs": []
    },
    {
      "cell_type": "markdown",
      "metadata": {
        "deletable": false,
        "editable": false,
        "nbgrader": {
          "checksum": "3f4ec294c647cca80d50e650f19723d8",
          "grade": false,
          "grade_id": "cell-649d49e90f721cf7",
          "locked": true,
          "schema_version": 1,
          "solution": false
        },
        "id": "KdMXlep5bOsl"
      },
      "source": [
        "We can now play with it. "
      ]
    },
    {
      "cell_type": "code",
      "metadata": {
        "deletable": false,
        "editable": false,
        "nbgrader": {
          "checksum": "0b03de64cc41e4a31cc5b46ccefd49e4",
          "grade": false,
          "grade_id": "cell-e75c320e4a31c2d1",
          "locked": true,
          "schema_version": 1,
          "solution": false
        },
        "id": "TgfPgHNlbOsl",
        "colab": {
          "base_uri": "https://localhost:8080/"
        },
        "outputId": "e54100b4-3453-4a30-a0ca-ead26fd31c73"
      },
      "source": [
        "runner = RunSchedule(carbonara)\n",
        "runner.reset()\n",
        "for _ in range(10):\n",
        "    print(runner.step())\n",
        "print(\"---> readd salt\")\n",
        "print(\"marking undone:\", runner.redo(\"add salt to water\"))\n",
        "print(\"completed:\", runner.scheduler.completed_tasks)\n",
        "for _ in range(10):\n",
        "    print(runner.step())\n",
        "print(\"--->redo dice pancetta\")\n",
        "print(\"marking undone:\", runner.redo(\"dice pancetta\"))\n",
        "print(\"completed:\", runner.scheduler.completed_tasks)\n",
        "for t in runner.run():\n",
        "    print(t)\n"
      ],
      "execution_count": null,
      "outputs": [
        {
          "output_type": "stream",
          "text": [
            "dice pancetta\n",
            "dice onions\n",
            "put onions in pan\n",
            "put pancetta in pan\n",
            "fill pot with water\n",
            "put oil and butter in pan\n",
            "bring pot of water to a boil\n",
            "add salt to water\n",
            "put eggs in bowl\n",
            "beat eggs\n",
            "---> readd salt\n",
            "marking undone: {'add salt to water'}\n",
            "completed: {'fill pot with water', 'bring pot of water to a boil', 'put onions in pan', 'dice onions', 'put pancetta in pan', 'put oil and butter in pan', 'put eggs in bowl', 'beat eggs', 'dice pancetta'}\n",
            "cook pancetta\n",
            "add salt to water\n",
            "put pasta in water\n",
            "colander pasta\n",
            "serve\n",
            "None\n",
            "None\n",
            "None\n",
            "None\n",
            "None\n",
            "--->redo dice pancetta\n",
            "marking undone: {'serve', 'put pancetta in pan', 'dice pancetta', 'cook pancetta'}\n",
            "completed: {'fill pot with water', 'bring pot of water to a boil', 'colander pasta', 'put pasta in water', 'put onions in pan', 'add salt to water', 'dice onions', 'put oil and butter in pan', 'put eggs in bowl', 'beat eggs'}\n",
            "dice pancetta\n",
            "put pancetta in pan\n",
            "cook pancetta\n",
            "serve\n"
          ],
          "name": "stdout"
        }
      ]
    },
    {
      "cell_type": "markdown",
      "metadata": {
        "deletable": false,
        "editable": false,
        "nbgrader": {
          "checksum": "fefa652c64562e34bb0febc03b8e5c8c",
          "grade": false,
          "grade_id": "cell-d879d3343e6f13f3",
          "locked": true,
          "schema_version": 1,
          "solution": false
        },
        "id": "YYXHfPwTbOsl"
      },
      "source": [
        "You have learned to sequence the order in which to do tasks so as to respect their dependencies.  In the next chapter, we will learn how to also take into account the time it takes for us to do the tasks.  In the meantime, bon appetit, or rather, guten appetit, or rather, buon appetito!"
      ]
    },
    {
      "cell_type": "markdown",
      "metadata": {
        "deletable": false,
        "editable": false,
        "nbgrader": {
          "checksum": "762427c225bf731e0bb90204533754a7",
          "grade": false,
          "grade_id": "cell-d8ce6c37cba9be0",
          "locked": true,
          "schema_version": 1,
          "solution": false
        },
        "id": "GTjE6iUJbOsl"
      },
      "source": [
        "#### Redoing in cooking\n",
        "\n",
        "The act of redoing a cooking step is somewhat different than the act of redoing something in code.  Suppose you cook pasta, unite with it the fried bacon and onions, and then -- terrible mishap -- you unite with it the beaten egg yolks in which one of the eggs is rotten. \n",
        "\n",
        "In code, when one file changes, you only need to redo the things that _depend_ on that file.  In cooking, it is different: even if nothing changed in the bacon, onions, and cooked pasta, once you add to it rotten eggs you have to redo the pasta, bacon, onions, etc, as well, as they have now been contaminated.  The root of the problem is that in a makefile, when you combine two files to compute a result, you do not destroy the original files, whereas in cooking, once you combine foods, you don't have the original foods any longer.  Cooking is like a makefile in which, once you combine files, you immediately delete them. \n",
        "\n",
        "So let us come up with a precise definition of what needs to be redone in cooking, when one of the steps goes bad (the eggs are rotten, you burn the food on the stove, and so on). \n",
        "\n",
        "Initially, we label _redo_ the task that needs redoing.  We then propagate the label according to these two rules: \n",
        "\n",
        "* If a task $v$ is labeled _redo_, if $u$ is a successor of $v$ and $u$ is completed, then $u$ is also labeled _redo_. \n",
        "* If a task $v$ is labeled _redo_, and if $u$ is a predecessor of $v$, then $u$ is also labeled _redo_ (note that in this case, we are guaranteed that $u$ is completed). \n",
        "\n",
        "The first rule corresponds to a _forward_ pass in the dependency garph; the second rule corresponds to a _backward_ pass in the dependency relation. \n",
        "Once the _redo_ label is propagated, all tasks that are marked _redo_ are changed from completed, to uncompleted. \n",
        "\n",
        "We ask you to implement this in code."
      ]
    },
    {
      "cell_type": "markdown",
      "metadata": {
        "deletable": false,
        "editable": false,
        "nbgrader": {
          "checksum": "bc530f1067c9f06847e1fa513a92990c",
          "grade": false,
          "grade_id": "cell-6d12164e3e76339b",
          "locked": true,
          "schema_version": 1,
          "solution": false
        },
        "id": "48s5cABVbOsl"
      },
      "source": [
        "## Question 3: redo for recipes"
      ]
    },
    {
      "cell_type": "code",
      "metadata": {
        "deletable": false,
        "nbgrader": {
          "checksum": "6ccca5682cbed48c50d2a9ea4300b62c",
          "grade": false,
          "grade_id": "cell-a0618093f5920c44",
          "locked": false,
          "schema_version": 1,
          "solution": true
        },
        "id": "lZrL-D6JbOsl"
      },
      "source": [
        "### Implementation of `cooking_redo`\n",
        "\n",
        "def dependency_scheduler_cooking_redo(self, v):\n",
        "    \"\"\"Indicates that the task v needs to be redone, as something went bad.\n",
        "    This is the \"cooking\" version of the redo, in which the redo propagates\n",
        "    to both successors (as for code) and predecessors.\"\"\"\n",
        "    # YOUR CODE HERE\n",
        "    x = set()\n",
        "    vopen = {v}\n",
        "    vclosed = set()\n",
        "    while len(vopen) > 0:\n",
        "        u = vopen.pop()\n",
        "        vclosed.add(u)\n",
        "        vopen.update(self.successors[u] - vclosed)\n",
        "    \n",
        "    for i in vclosed:\n",
        "        if i in self.completed_tasks and self.successors[i] not in self.completed_tasks:\n",
        "            x.add(i)\n",
        "        if i in self.completed_tasks:\n",
        "            self.completed_tasks.remove(i)\n",
        "    for v in x:        \n",
        "        vopen = {v}\n",
        "        vclosed = set()\n",
        "        while len(vopen) > 0:\n",
        "            u = vopen.pop()\n",
        "            vclosed.add(u)\n",
        "            vopen.update(self.predecessors[u] - vclosed)\n",
        "        for i in vclosed:\n",
        "            if i in self.completed_tasks:\n",
        "                self.completed_tasks.remove(i)\n",
        "    \"\"\"\n",
        "    check all predecessors and sucessors\n",
        "    \"\"\"\n",
        "\n",
        "DependencyScheduler.cooking_redo = dependency_scheduler_cooking_redo\n"
      ],
      "execution_count": null,
      "outputs": []
    },
    {
      "cell_type": "code",
      "metadata": {
        "deletable": false,
        "nbgrader": {
          "checksum": "fef9951e6a653a4975154941aa5e881a",
          "grade": false,
          "grade_id": "cell-aa93a1ed6a926cff",
          "locked": false,
          "schema_version": 1,
          "solution": true
        },
        "id": "McUsSjg2bOsl"
      },
      "source": [
        "# Here is a place where you can test your code. \n",
        "\n",
        "# YOUR CODE HERE\n",
        "# Additional test\n",
        "s = DependencyScheduler()\n",
        "s.add_task('a', [])\n",
        "s.add_task('b', [])\n",
        "s.add_task('c', ['a', 'b'])\n",
        "s.add_task('d', ['c', 'a'])\n",
        "s.add_task('e', [])\n",
        "s.add_task('f', ['e'])\n",
        "s.add_task('g', ['f', 'd'])\n",
        "s.add_task('h', ['c'])\n",
        "s.add_task('m', ['h'])\n",
        "\n",
        "s.mark_completed('a')\n",
        "s.mark_completed('b')\n",
        "s.mark_completed('c')\n",
        "s.mark_completed('d')\n",
        "s.mark_completed('h')\n",
        "assert_true('m' in s.available_tasks)\n",
        "s.cooking_redo('a')\n",
        "assert_equal(s.available_tasks, {'a', 'b', 'e'})"
      ],
      "execution_count": null,
      "outputs": []
    },
    {
      "cell_type": "markdown",
      "metadata": {
        "deletable": false,
        "editable": false,
        "nbgrader": {
          "checksum": "27d265e4416ecc09bb1d88678feb3e3c",
          "grade": false,
          "grade_id": "cell-9a8d2fd5d7f7954d",
          "locked": true,
          "schema_version": 1,
          "solution": false
        },
        "id": "Ld-3dFD3bOsl"
      },
      "source": [
        "Let us check that the code works.  First, a simple example. "
      ]
    },
    {
      "cell_type": "code",
      "metadata": {
        "deletable": false,
        "editable": false,
        "nbgrader": {
          "checksum": "0ac9dcabcfdf363f540a35363e3c6103",
          "grade": true,
          "grade_id": "cell-c81c441e91888093",
          "locked": true,
          "points": 10,
          "schema_version": 1,
          "solution": false
        },
        "id": "VcQF5mWTbOsl"
      },
      "source": [
        "### Basic tests for `cooking_redo`. 10 points. \n",
        "\n",
        "s = DependencyScheduler()\n",
        "s.add_task('a', [])\n",
        "s.add_task('b', [])\n",
        "s.add_task('c', ['a', 'b'])\n",
        "s.add_task('d', ['c', 'a'])\n",
        "s.add_task('e', [])\n",
        "s.add_task('f', ['e'])\n",
        "s.add_task('g', ['f', 'd'])\n",
        "\n",
        "s.mark_completed('a')\n",
        "s.mark_completed('b')\n",
        "s.mark_completed('c')\n",
        "s.mark_completed('d')\n",
        "assert_equal(s.available_tasks, {'e'})\n",
        "s.cooking_redo('c')\n",
        "# When we redo c, both its successor d, and predecessors a, b have to be redone.\n",
        "assert_equal(s.available_tasks, {'a', 'b', 'e'})\n",
        "assert_equal(s.completed_tasks, set())\n",
        "\n"
      ],
      "execution_count": null,
      "outputs": []
    },
    {
      "cell_type": "markdown",
      "metadata": {
        "deletable": false,
        "editable": false,
        "nbgrader": {
          "checksum": "9837d82e5252ea166f9df307ac050674",
          "grade": false,
          "grade_id": "cell-ca557220e8080773",
          "locked": true,
          "schema_version": 1,
          "solution": false
        },
        "id": "c2rfZDlFbOsl"
      },
      "source": [
        "And now, some slightly more sophisticated tests."
      ]
    },
    {
      "cell_type": "code",
      "metadata": {
        "deletable": false,
        "editable": false,
        "nbgrader": {
          "checksum": "e9305566644280e83a323332ac42b1f2",
          "grade": true,
          "grade_id": "cell-4c4d6c54901c7d9",
          "locked": true,
          "points": 10,
          "schema_version": 1,
          "solution": false
        },
        "id": "wLk0dxQvbOsl"
      },
      "source": [
        "### Advanced tests for `cooking_redo`. 10 points. \n",
        "\n",
        "s = DependencyScheduler()\n",
        "s.add_task('a', [])\n",
        "s.add_task('b', [])\n",
        "s.add_task('c', ['a', 'b'])\n",
        "s.add_task('d', ['c', 'a'])\n",
        "s.add_task('e', [])\n",
        "s.add_task('f', ['e'])\n",
        "s.add_task('g', ['f', 'd'])\n",
        "\n",
        "s.mark_completed('a')\n",
        "s.mark_completed('b')\n",
        "s.mark_completed('c')\n",
        "s.mark_completed('d')\n",
        "s.mark_completed('e')\n",
        "assert_equal(s.available_tasks, {'f'})\n",
        "s.cooking_redo('c')\n",
        "# When we redo c, both its successor d, and predecessors a, b have to be redone.\n",
        "assert_equal(s.available_tasks, {'a', 'b', 'f'})\n",
        "assert_equal(s.completed_tasks, {'e'})\n",
        "\n"
      ],
      "execution_count": null,
      "outputs": []
    },
    {
      "cell_type": "markdown",
      "metadata": {
        "deletable": false,
        "editable": false,
        "nbgrader": {
          "checksum": "8e2d0c5ee7ca1ee6b0228ce1fcf4b129",
          "grade": false,
          "grade_id": "cell-1354768f9bcb0376",
          "locked": true,
          "schema_version": 1,
          "solution": false
        },
        "id": "2A9HqbqhbOsl"
      },
      "source": [
        "## Question 4: Implement And-Or Schedules\n",
        "\n",
        "In the schedules we have seen so far, the dependencies are in _and_ one with the other: if a task $a$ depends on $b, c$, then _both_ $b$ _and $c$ need to be completed before $a$ can be started. \n",
        "It is possible to consider also cases where dependencies are in an _or_ relation: if $a$ depends on $b, c$ in an _or_ way, then it suffices to complete one of $b$ _or_ $c$ before starting $a$. \n",
        "For instance, in our Carbonara Pasta example, it is possible (even though not necessarily advisable) to use shallots in place of onions. \n",
        "In that case, instead of \n",
        "\n",
        "    carbonara.add_task('put onions in pan', ['dice onions'])\n",
        "\n",
        "we could have:\n",
        "\n",
        "    carbonara.add_or_task('put onions in pan', ['dice onions', 'dice shallots'])\n",
        "\n",
        "so that before putting the (now generally named) onions in a pan, we could choose to dice either shallots or onions. \n",
        "\n",
        "Formally, the idea is to endow the Scheduler class with _two_ methods: \n",
        "\n",
        "* `add_and_task(self, t, dependencies)` adds a task `t` with list of dependencies `dependencies`, so that `t` can be done when _all_ of the dependencies are done.  The task `t` is called an AND node in the dependency graph. \n",
        "\n",
        "* `add_or_task(self, t, dependencies)` adds a task `t` with list of dependencies `dependencies`, so that `t` can be done when _at least one_ of the dependencies is done.  The task `t` is called an OR node in the dependency graph. \n",
        "\n",
        "You need to find a way to remember which dependency graph nodes are AND or OR nodes, and you need to implement the properties `done`, `available_tasks`, `uncompleted`, and the method `mark_completed`, to make this class work. \n",
        "Implementing the `show` method is optional; do it if it helps you debug your code. "
      ]
    },
    {
      "cell_type": "code",
      "metadata": {
        "deletable": false,
        "nbgrader": {
          "checksum": "b4902dcc720ffd415db259d5d7d9e70c",
          "grade": false,
          "grade_id": "cell-51732cbc3481ec67",
          "locked": false,
          "schema_version": 1,
          "solution": true
        },
        "id": "1S2nu7dRbOsm"
      },
      "source": [
        "### `AND_OR_Scheduler` implementation\n",
        "\n",
        "class AND_OR_Scheduler(object):\n",
        "    def __init__(self):\n",
        "        # It is up to you to implement the initialization.\n",
        "        # YOUR CODE HERE\n",
        "        # The successors of a task are the tasks that depend on it, and can\n",
        "        # only be done once the task is completed.\n",
        "        self.andd = set()\n",
        "        self.ord = set()\n",
        "        self.successors = defaultdict(set)\n",
        "        self.predecessors = defaultdict(set)\n",
        "        self.completed_tasks = set() # completed tasks\n",
        "        self.andtasks = set()\n",
        "        self.ortasks = set()\n",
        "\n",
        "    def add_and_task(self, t, dependencies):\n",
        "        \"\"\"Adds an AND task t with given dependencies.\"\"\"\n",
        "        # YOUR CODE HERE\n",
        "        # Makes sure we know about all tasks mentioned.\n",
        "        assert t not in self.andtasks or len(self.predecessors[t]) == 0, \"The task was already present.\"\n",
        "        self.andtasks.add(t)\n",
        "        self.andd.add(t)\n",
        "        self.andtasks.update(dependencies)\n",
        "        # The predecessors are the tasks that need to be done before.\n",
        "        self.predecessors[t] = set(dependencies)\n",
        "        # The new task is a successor of its dependencies.\n",
        "        for u in dependencies:\n",
        "            self.successors[u].add(t)\n",
        "\n",
        "\n",
        "    def add_or_task(self, t, dependencies):\n",
        "        \"\"\"Adds an OR task t with given dependencies.\"\"\"\n",
        "        # YOUR CODE HERE\n",
        "         # Makes sure we know about all tasks mentioned.\n",
        "        assert t not in self.ortasks or len(self.predecessors[t]) == 0, \"The task was already present.\"\n",
        "        self.ortasks.add(t)\n",
        "        self.ord.add(t)\n",
        "        self.ortasks.update(dependencies)\n",
        "        \n",
        "        # The predecessors are the tasks that need to be done before.\n",
        "        self.predecessors[t] = set(dependencies)\n",
        "        # The new task is a successor of its dependencies.\n",
        "        for u in dependencies:\n",
        "            self.successors[u].add(t)\n",
        "\n",
        "        \n",
        "    @property\n",
        "    def done(self):\n",
        "        # YOUR CODE HERE\n",
        "        return self.completed_tasks == self.ortasks.union(self.andtasks)\n",
        "\n",
        "    @property\n",
        "    def available_tasks(self):\n",
        "        \"\"\"Returns the set of tasks that can be done in parallel.\n",
        "        A task can be done if:\n",
        "        - It is an AND task, and all its predecessors have been completed, or\n",
        "        - It is an OR task, and at least one of its predecessors has been completed.\n",
        "        And of course, we don't return any task that has already been\n",
        "        completed.\"\"\"\n",
        "        # YOUR CODE HERE\n",
        "        \n",
        "        x = set()\n",
        "        for i in self.andtasks.difference(self.ord):\n",
        "            if i not in self.completed_tasks:\n",
        "                if self.predecessors[i] == set() or self.predecessors[i].intersection(self.completed_tasks) == self.predecessors[i]:\n",
        "                    x.add(i)\n",
        "        for i in self.ortasks.difference(self.andd):\n",
        "            if i not in self.completed_tasks:\n",
        "                if self.predecessors[i] == set() or len(self.predecessors[i].intersection(self.completed_tasks)) > 0:\n",
        "                    x.add(i)\n",
        "        return x\n",
        "\n",
        "    def mark_completed(self, t):\n",
        "        \"\"\"Marks the task t as completed, and returns the additional\n",
        "        set of tasks that can be done (and that could not be\n",
        "        previously done) once t is completed.\"\"\"\n",
        "        # YOUR CODE HERE\n",
        "        x = self.available_tasks\n",
        "        self.completed_tasks.add(t)\n",
        "        return self.available_tasks.difference(x)\n",
        "\n",
        "    def show(self):\n",
        "        \"\"\"You can use the nx graph to display the graph.  You may want to ensure\n",
        "        that you display AND and OR nodes differently.\"\"\"\n",
        "        # YOUR CODE HERE\n"
      ],
      "execution_count": null,
      "outputs": []
    },
    {
      "cell_type": "code",
      "metadata": {
        "deletable": false,
        "nbgrader": {
          "checksum": "27af5864ccc43f22993a72d0f647bdc4",
          "grade": false,
          "grade_id": "cell-038c005b93e6e0f1",
          "locked": false,
          "schema_version": 1,
          "solution": true
        },
        "id": "Nk22fu-0bOsm"
      },
      "source": [
        "s = AND_OR_Scheduler()\n",
        "s.add_or_task('a', ['b', 'c'])\n",
        "s.add_and_task('b', ['b1', 'b2'])\n",
        "s.add_and_task('c', ['c1', 'c2'])\n",
        "r = s.mark_completed('b1')\n",
        "assert_equal(s.available_tasks, {'b2', 'c1', 'c2'})\n",
        "r = s.mark_completed('c1')\n",
        "assert_equal(s.available_tasks, {'b2', 'c2'})\n",
        "r = s.mark_completed('c2')\n",
        "assert_equal(s.available_tasks, {'b2', 'c'})\n",
        "r = s.mark_completed('c')\n",
        "assert_true('a' in s.available_tasks)"
      ],
      "execution_count": null,
      "outputs": []
    },
    {
      "cell_type": "markdown",
      "metadata": {
        "deletable": false,
        "editable": false,
        "nbgrader": {
          "checksum": "a5b1f35544aaaa7231a3bc093db3d5b9",
          "grade": false,
          "grade_id": "cell-482edb12036108dc",
          "locked": true,
          "schema_version": 1,
          "solution": false
        },
        "id": "tsqlf8jHbOsm"
      },
      "source": [
        "Let us do some simple tests.  First, for good old AND nodes. "
      ]
    },
    {
      "cell_type": "code",
      "metadata": {
        "deletable": false,
        "editable": false,
        "nbgrader": {
          "checksum": "c873af11920709a2d8333932e617be8b",
          "grade": true,
          "grade_id": "cell-9a86f02cc5bca274",
          "locked": true,
          "points": 10,
          "schema_version": 1,
          "solution": false
        },
        "id": "tp-PHi2nbOsm"
      },
      "source": [
        "### Simple tests for AND nodes. 10 points. \n",
        "\n",
        "s = AND_OR_Scheduler()\n",
        "s.add_and_task('a', ['b', 'c'])\n",
        "assert_equal(s.available_tasks, {'b', 'c'})\n",
        "r = s.mark_completed('b')\n",
        "assert_equal(r, set())\n",
        "assert_equal(s.available_tasks, {'c'})\n",
        "r = s.mark_completed('c')\n",
        "assert_equal(r, {'a'})\n",
        "assert_equal(s.available_tasks, {'a'})\n",
        "r = s.mark_completed('a')\n",
        "assert_equal(r, set())\n",
        "assert_equal(s.available_tasks, set())\n",
        "\n"
      ],
      "execution_count": null,
      "outputs": []
    },
    {
      "cell_type": "markdown",
      "metadata": {
        "deletable": false,
        "editable": false,
        "nbgrader": {
          "checksum": "451c1a9c2301ae0361c28ad6e69c35da",
          "grade": false,
          "grade_id": "cell-77803bc9d9342c22",
          "locked": true,
          "schema_version": 1,
          "solution": false
        },
        "id": "kkAsX2sSbOsm"
      },
      "source": [
        "Then, some simple tests for OR nodes. "
      ]
    },
    {
      "cell_type": "code",
      "metadata": {
        "deletable": false,
        "editable": false,
        "nbgrader": {
          "checksum": "af51d6d7f9b58c91cc90e5e7c48a7647",
          "grade": true,
          "grade_id": "cell-19e1d2c726e4be1b",
          "locked": true,
          "points": 10,
          "schema_version": 1,
          "solution": false
        },
        "id": "7toFiH71bOsm"
      },
      "source": [
        "### Simple tests for OR nodes. 10 points. \n",
        "\n",
        "s = AND_OR_Scheduler()\n",
        "s.add_or_task('a', ['b', 'c'])\n",
        "assert_equal(s.available_tasks, {'b', 'c'})\n",
        "r = s.mark_completed('b')\n",
        "# Now 'a' becomes available.\n",
        "assert_equal(r, {'a'})\n",
        "# But note that 'c' is also available, even if useless.\n",
        "assert_equal(s.available_tasks, {'a', 'c'})\n",
        "r = s.mark_completed('a')\n",
        "assert_equal(r, set())\n",
        "assert_equal(s.available_tasks, {'c'})\n",
        "r = s.mark_completed('c')\n",
        "assert_equal(r, set())\n",
        "assert_equal(s.available_tasks, set())\n",
        "\n"
      ],
      "execution_count": null,
      "outputs": []
    },
    {
      "cell_type": "markdown",
      "metadata": {
        "deletable": false,
        "editable": false,
        "nbgrader": {
          "checksum": "587858ea7715ed0dfc82913fa3a63542",
          "grade": false,
          "grade_id": "cell-80257a5f8718f673",
          "locked": true,
          "schema_version": 1,
          "solution": false
        },
        "id": "b8dcqBTNbOsm"
      },
      "source": [
        "Note that a drawback of this simple solution, as illustrated by the above test case, is that we do not distinguish between the tasks that are useful to do the root task, and the tasks that are useless, that is, not part of a minimal solution.  We simply call them available, as they can be done, even though there is no advantage in doing them. "
      ]
    },
    {
      "cell_type": "code",
      "metadata": {
        "deletable": false,
        "editable": false,
        "nbgrader": {
          "checksum": "2da9553393518e5ca462fd18da9aa002",
          "grade": true,
          "grade_id": "cell-fa32f16841d80974",
          "locked": true,
          "points": 10,
          "schema_version": 1,
          "solution": false
        },
        "id": "ONLg2kBBbOsm"
      },
      "source": [
        "### Tests with both AND and OR nodes. 10 points. \n",
        "\n",
        "s = AND_OR_Scheduler()\n",
        "s.add_and_task('a', ['b', 'c'])\n",
        "s.add_or_task('b', ['b1', 'b2'])\n",
        "s.add_or_task('c', ['c1', 'c2'])\n",
        "r = s.mark_completed('b1')\n",
        "assert_equal(s.available_tasks, {'b', 'b2', 'c1', 'c2'})\n",
        "r = s.mark_completed('b')\n",
        "assert_false('a' in s.available_tasks)\n",
        "r = s.mark_completed('c1')\n",
        "assert_false('a' in s.available_tasks)\n",
        "r = s.mark_completed('c')\n",
        "assert_true('a' in s.available_tasks)\n",
        "\n",
        "s = AND_OR_Scheduler()\n",
        "s.add_or_task('a', ['b', 'c'])\n",
        "s.add_and_task('b', ['b1', 'b2'])\n",
        "s.add_and_task('c', ['c1', 'c2'])\n",
        "r = s.mark_completed('b1')\n",
        "assert_equal(s.available_tasks, {'b2', 'c1', 'c2'})\n",
        "r = s.mark_completed('c1')\n",
        "assert_equal(s.available_tasks, {'b2', 'c2'})\n",
        "r = s.mark_completed('c2')\n",
        "assert_equal(s.available_tasks, {'b2', 'c'})\n",
        "r = s.mark_completed('c')\n",
        "assert_true('a' in s.available_tasks)\n"
      ],
      "execution_count": null,
      "outputs": []
    }
  ]
}